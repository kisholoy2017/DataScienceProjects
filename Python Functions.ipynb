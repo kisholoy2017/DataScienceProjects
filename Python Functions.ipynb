{
 "cells": [
  {
   "cell_type": "code",
   "execution_count": 9,
   "id": "02ff909c",
   "metadata": {},
   "outputs": [
    {
     "name": "stdout",
     "output_type": "stream",
     "text": [
      "18 24\n"
     ]
    }
   ],
   "source": [
    "#calculate sum of 2 lists\n",
    "\n",
    "def calculate_total(exp):\n",
    "    total=0\n",
    "    for item in exp: \n",
    "        total = total + item\n",
    "    return total \n",
    "\n",
    "list1 = [1, 4, 5, 8]\n",
    "list2 = [3, 8, 7, 6]\n",
    "\n",
    "list_1_total = calculate_total(list1)\n",
    "list_2_total = calculate_total(list2)\n",
    "\n",
    "print(list_1_total, list_2_total)"
   ]
  },
  {
   "cell_type": "code",
   "execution_count": 11,
   "id": "e477ad89",
   "metadata": {},
   "outputs": [
    {
     "name": "stdout",
     "output_type": "stream",
     "text": [
      "6.0\n"
     ]
    }
   ],
   "source": [
    "# Write a function called calculate_area that takes base and height as an input and returns and area of a triangle\n",
    "def triangle_area(b,h):\n",
    "    area = 1/2*b*h\n",
    "    return area \n",
    "b_input = 3 \n",
    "h_input = 4 \n",
    "\n",
    "area_final = triangle_area(b_input, h_input)\n",
    "print(area_final)"
   ]
  },
  {
   "cell_type": "code",
   "execution_count": null,
   "id": "7330c103",
   "metadata": {},
   "outputs": [],
   "source": [
    "#Modify above function to take third parameter shape type. \n",
    "#It can be either \"triangle\" or \"rectangle\". Based on shape type it will calculate area."
   ]
  },
  {
   "cell_type": "code",
   "execution_count": 17,
   "id": "5bc50a18",
   "metadata": {},
   "outputs": [
    {
     "name": "stdout",
     "output_type": "stream",
     "text": [
      "12\n"
     ]
    }
   ],
   "source": [
    "def calculate_area(b,h,shape=\"triangle\"):\n",
    "    if shape == \"triangle\": \n",
    "        area = 1/2*b*h\n",
    "        return area \n",
    "    elif shape == \"rectangle\":\n",
    "        area = b*h\n",
    "        return area\n",
    "    else:\n",
    "        print(\"Error: Input shape is neither triangle nor rectangle.\")\n",
    "       \n",
    "\n",
    "b_input = 3\n",
    "h_input = 4\n",
    "shape = \"rectangle\"\n",
    "\n",
    "area_final = calculate_area(b_input,h_input,shape)\n",
    "print(area_final)\n",
    "        \n",
    "        "
   ]
  },
  {
   "cell_type": "code",
   "execution_count": 74,
   "id": "9cdbaa49",
   "metadata": {},
   "outputs": [
    {
     "name": "stdout",
     "output_type": "stream",
     "text": [
      "*\n",
      "**\n",
      "***\n"
     ]
    }
   ],
   "source": [
    "#Write a function called print_pattern that \n",
    "#takes integer number as an argument and prints following pattern if input number is 3\n",
    "#*\n",
    "#**\n",
    "#***\n",
    "def print_pattern(n=5):\n",
    "     for i in range(n):\n",
    "        s = ''\n",
    "        for j in range(i+1):\n",
    "            s = s + '*'\n",
    "        print(s)\n",
    "\n",
    "print_pattern(3)"
   ]
  },
  {
   "cell_type": "code",
   "execution_count": null,
   "id": "725bb55d",
   "metadata": {},
   "outputs": [],
   "source": []
  },
  {
   "cell_type": "code",
   "execution_count": null,
   "id": "49be9d8d",
   "metadata": {},
   "outputs": [],
   "source": []
  }
 ],
 "metadata": {
  "kernelspec": {
   "display_name": "Python 3 (ipykernel)",
   "language": "python",
   "name": "python3"
  },
  "language_info": {
   "codemirror_mode": {
    "name": "ipython",
    "version": 3
   },
   "file_extension": ".py",
   "mimetype": "text/x-python",
   "name": "python",
   "nbconvert_exporter": "python",
   "pygments_lexer": "ipython3",
   "version": "3.9.12"
  }
 },
 "nbformat": 4,
 "nbformat_minor": 5
}
