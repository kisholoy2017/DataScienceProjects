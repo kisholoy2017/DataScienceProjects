{
  "nbformat": 4,
  "nbformat_minor": 0,
  "metadata": {
    "colab": {
      "provenance": []
    },
    "kernelspec": {
      "name": "python3",
      "display_name": "Python 3"
    },
    "language_info": {
      "name": "python"
    }
  },
  "cells": [
    {
      "cell_type": "code",
      "execution_count": 3,
      "metadata": {
        "colab": {
          "base_uri": "https://localhost:8080/",
          "height": 427
        },
        "id": "RRBsZg4WfjFZ",
        "outputId": "dffa99c8-0629-4254-dba3-e4b79b6c7bfd"
      },
      "outputs": [
        {
          "output_type": "stream",
          "name": "stdout",
          "text": [
            "     Ad Copy  Clicks  Conversions    CTR  Conversion Rate      ROAS\n",
            "0  Ad Copy 1      48           10  0.048         0.208333  0.010417\n",
            "1  Ad Copy 2      66           25  0.066         0.378788  0.022727\n",
            "2  Ad Copy 3      68           23  0.068         0.338235  0.023676\n"
          ]
        },
        {
          "output_type": "error",
          "ename": "TypeError",
          "evalue": "ignored",
          "traceback": [
            "\u001b[0;31m---------------------------------------------------------------------------\u001b[0m",
            "\u001b[0;31mTypeError\u001b[0m                                 Traceback (most recent call last)",
            "\u001b[0;32m<ipython-input-3-e990e8d68954>\u001b[0m in \u001b[0;36m<module>\u001b[0;34m\u001b[0m\n\u001b[1;32m     30\u001b[0m \u001b[0;34m\u001b[0m\u001b[0m\n\u001b[1;32m     31\u001b[0m \u001b[0;31m# Use a t-test to determine if there is a significant difference between ad copies\u001b[0m\u001b[0;34m\u001b[0m\u001b[0;34m\u001b[0m\u001b[0;34m\u001b[0m\u001b[0m\n\u001b[0;32m---> 32\u001b[0;31m \u001b[0mt_stat\u001b[0m\u001b[0;34m,\u001b[0m \u001b[0mp_val\u001b[0m \u001b[0;34m=\u001b[0m \u001b[0mttest_ind\u001b[0m\u001b[0;34m(\u001b[0m\u001b[0mconv_rate1\u001b[0m\u001b[0;34m,\u001b[0m \u001b[0mconv_rate2\u001b[0m\u001b[0;34m,\u001b[0m \u001b[0mconv_rate3\u001b[0m\u001b[0;34m)\u001b[0m\u001b[0;34m\u001b[0m\u001b[0;34m\u001b[0m\u001b[0m\n\u001b[0m\u001b[1;32m     33\u001b[0m \u001b[0mprint\u001b[0m\u001b[0;34m(\u001b[0m\u001b[0;34m't-statistic: {:.2f}'\u001b[0m\u001b[0;34m.\u001b[0m\u001b[0mformat\u001b[0m\u001b[0;34m(\u001b[0m\u001b[0mt_stat\u001b[0m\u001b[0;34m)\u001b[0m\u001b[0;34m)\u001b[0m\u001b[0;34m\u001b[0m\u001b[0;34m\u001b[0m\u001b[0m\n\u001b[1;32m     34\u001b[0m \u001b[0mprint\u001b[0m\u001b[0;34m(\u001b[0m\u001b[0;34m'p-value: {:.4f}'\u001b[0m\u001b[0;34m.\u001b[0m\u001b[0mformat\u001b[0m\u001b[0;34m(\u001b[0m\u001b[0mp_val\u001b[0m\u001b[0;34m)\u001b[0m\u001b[0;34m)\u001b[0m\u001b[0;34m\u001b[0m\u001b[0;34m\u001b[0m\u001b[0m\n",
            "\u001b[0;32m/usr/local/lib/python3.8/dist-packages/scipy/stats/stats.py\u001b[0m in \u001b[0;36mttest_ind\u001b[0;34m(a, b, axis, equal_var, nan_policy, permutations, random_state, alternative, trim)\u001b[0m\n\u001b[1;32m   6127\u001b[0m \u001b[0;34m\u001b[0m\u001b[0m\n\u001b[1;32m   6128\u001b[0m     \u001b[0;32melse\u001b[0m\u001b[0;34m:\u001b[0m\u001b[0;34m\u001b[0m\u001b[0;34m\u001b[0m\u001b[0m\n\u001b[0;32m-> 6129\u001b[0;31m         \u001b[0mn1\u001b[0m \u001b[0;34m=\u001b[0m \u001b[0ma\u001b[0m\u001b[0;34m.\u001b[0m\u001b[0mshape\u001b[0m\u001b[0;34m[\u001b[0m\u001b[0maxis\u001b[0m\u001b[0;34m]\u001b[0m\u001b[0;34m\u001b[0m\u001b[0;34m\u001b[0m\u001b[0m\n\u001b[0m\u001b[1;32m   6130\u001b[0m         \u001b[0mn2\u001b[0m \u001b[0;34m=\u001b[0m \u001b[0mb\u001b[0m\u001b[0;34m.\u001b[0m\u001b[0mshape\u001b[0m\u001b[0;34m[\u001b[0m\u001b[0maxis\u001b[0m\u001b[0;34m]\u001b[0m\u001b[0;34m\u001b[0m\u001b[0;34m\u001b[0m\u001b[0m\n\u001b[1;32m   6131\u001b[0m \u001b[0;34m\u001b[0m\u001b[0m\n",
            "\u001b[0;31mTypeError\u001b[0m: tuple indices must be integers or slices, not float"
          ]
        }
      ],
      "source": [
        "import random\n",
        "import numpy as np\n",
        "import pandas as pd\n",
        "from scipy.stats import ttest_ind\n",
        "\n",
        "# Define the sample sizes and click rates for each ad copy\n",
        "n1, n2, n3 = 1000, 1000, 1000\n",
        "cr1, cr2, cr3 = 0.05, 0.06, 0.07\n",
        "\n",
        "# Simulate clicks and conversions for each ad copy\n",
        "clicks1, clicks2, clicks3 = np.random.binomial(n1, cr1), np.random.binomial(n2, cr2), np.random.binomial(n3, cr3)\n",
        "conv1, conv2, conv3 = np.random.binomial(clicks1, 0.2), np.random.binomial(clicks2, 0.3), np.random.binomial(clicks3, 0.25)\n",
        "\n",
        "# Calculate CTR, conversion rate, and ROAS for each ad copy\n",
        "ctr1, ctr2, ctr3 = clicks1/n1, clicks2/n2, clicks3/n3\n",
        "conv_rate1, conv_rate2, conv_rate3 = conv1/clicks1, conv2/clicks2, conv3/clicks3\n",
        "roas1, roas2, roas3 = conv1/clicks1*cr1, conv2/clicks2*cr2, conv3/clicks3*cr3\n",
        "\n",
        "# Create a pandas dataframe to store the results\n",
        "data = {\n",
        "    'Ad Copy': ['Ad Copy 1', 'Ad Copy 2', 'Ad Copy 3'],\n",
        "    'Clicks': [clicks1, clicks2, clicks3],\n",
        "    'Conversions': [conv1, conv2, conv3],\n",
        "    'CTR': [ctr1, ctr2, ctr3],\n",
        "    'Conversion Rate': [conv_rate1, conv_rate2, conv_rate3],\n",
        "    'ROAS': [roas1, roas2, roas3]\n",
        "}\n",
        "results_df = pd.DataFrame(data)\n",
        "print(results_df)\n",
        "\n",
        "# Use a t-test to determine if there is a significant difference between ad copies\n",
        "t_stat, p_val = ttest_ind(conv_rate1, conv_rate2, conv_rate3)\n",
        "print('t-statistic: {:.2f}'.format(t_stat))\n",
        "print('p-value: {:.4f}'.format(p_val))\n",
        "if p_val < 0.05:\n",
        "    print(\"There is a significant difference between ad copies.\")\n",
        "else:\n",
        "    print(\"There is no significant difference between ad copies.\")"
      ]
    },
    {
      "cell_type": "code",
      "source": [
        "p_val"
      ],
      "metadata": {
        "colab": {
          "base_uri": "https://localhost:8080/",
          "height": 166
        },
        "id": "IeUERxoHn1EB",
        "outputId": "68665c80-0692-4120-abf4-300aadf06907"
      },
      "execution_count": 2,
      "outputs": [
        {
          "output_type": "error",
          "ename": "NameError",
          "evalue": "ignored",
          "traceback": [
            "\u001b[0;31m---------------------------------------------------------------------------\u001b[0m",
            "\u001b[0;31mNameError\u001b[0m                                 Traceback (most recent call last)",
            "\u001b[0;32m<ipython-input-2-5c0e164b991a>\u001b[0m in \u001b[0;36m<module>\u001b[0;34m\u001b[0m\n\u001b[0;32m----> 1\u001b[0;31m \u001b[0mp_val\u001b[0m\u001b[0;34m\u001b[0m\u001b[0;34m\u001b[0m\u001b[0m\n\u001b[0m",
            "\u001b[0;31mNameError\u001b[0m: name 'p_val' is not defined"
          ]
        }
      ]
    },
    {
      "cell_type": "code",
      "source": [
        "import random\n",
        "import numpy as np\n",
        "import pandas as pd\n",
        "from scipy.stats import ttest_ind\n",
        "\n",
        "# Define the sample sizes and click rates for each ad copy\n",
        "n1, n2, n3 = 1000, 1000, 1000\n",
        "cr1, cr2, cr3 = 0.05, 0.06, 0.07\n",
        "\n",
        "# Simulate clicks and conversions for each ad copy\n",
        "clicks1, clicks2, clicks3 = np.random.binomial(n1, cr1), np.random.binomial(n2, cr2), np.random.binomial(n3, cr3)\n",
        "conv1, conv2, conv3 = np.random.binomial(clicks1, 0.2), np.random.binomial(clicks2, 0.3), np.random.binomial(clicks3, 0.25)\n",
        "\n",
        "# Calculate CTR, conversion rate, and ROAS for each ad copy\n",
        "ctr1, ctr2, ctr3 = clicks1/n1, clicks2/n2, clicks3/n3\n",
        "conv_rate1, conv_rate2, conv_rate3 = conv1/clicks1, conv2/clicks2, conv3/clicks3\n",
        "roas1, roas2, roas3 = conv1/clicks1*cr1, conv2/clicks2*cr2, conv3/clicks3*cr3\n",
        "\n",
        "# Create a pandas dataframe to store the results\n",
        "data = {\n",
        "    'Ad Copy': ['Ad Copy 1', 'Ad Copy 2', 'Ad Copy 3'],\n",
        "    'Clicks': [clicks1, clicks2, clicks3],\n",
        "    'Conversions': [conv1, conv2, conv3],\n",
        "    'CTR': [ctr1, ctr2, ctr3],\n",
        "    'Conversion Rate': [conv_rate1, conv_rate2, conv_rate3],\n",
        "    'ROAS': [roas1, roas2, roas3]\n",
        "}\n",
        "results_df = pd.DataFrame(data)\n",
        "print(results_df)"
      ],
      "metadata": {
        "colab": {
          "base_uri": "https://localhost:8080/"
        },
        "id": "rnRHqKmUrWBp",
        "outputId": "269eb751-3f8e-456c-9146-a3625a464e23"
      },
      "execution_count": 4,
      "outputs": [
        {
          "output_type": "stream",
          "name": "stdout",
          "text": [
            "     Ad Copy  Clicks  Conversions    CTR  Conversion Rate      ROAS\n",
            "0  Ad Copy 1      58           15  0.058         0.258621  0.012931\n",
            "1  Ad Copy 2      66           14  0.066         0.212121  0.012727\n",
            "2  Ad Copy 3      67           13  0.067         0.194030  0.013582\n"
          ]
        }
      ]
    },
    {
      "cell_type": "code",
      "source": [
        "import math\n",
        "from scipy import stats\n",
        "\n",
        "# Calculate the pooled standard deviation of the sample means\n",
        "pooled_std = math.sqrt((conv_rate1*(1-conv_rate1)/n1 + conv_rate2*(1-conv_rate2)/n2 + conv_rate3*(1-conv_rate3)/n3))\n",
        "\n",
        "# Calculate the z-score for each pairwise comparison\n",
        "z1 = (conv_rate1 - conv_rate2) / pooled_std\n",
        "z2 = (conv_rate2 - conv_rate3) / pooled_std\n",
        "z3 = (conv_rate1 - conv_rate3) / pooled_std\n",
        "\n",
        "# Use the standard normal distribution to calculate p-values\n",
        "p1 = 2*(1 - stats.norm.cdf(abs(z1)))\n",
        "p2 = 2*(1 - stats.norm.cdf(abs(z2)))\n",
        "p3 = 2*(1 - stats.norm.cdf(abs(z3)))\n",
        "\n",
        "# Print the results\n",
        "if p1 < 0.05:\n",
        "    print(\"Ad Copy 1 has a significantly different conversion rate than Ad Copy 2.\")\n",
        "else:\n",
        "    print(\"Ad Copy 1 does not have a significantly different conversion rate than Ad Copy 2.\")\n",
        "    \n",
        "if p2 < 0.05:\n",
        "    print(\"Ad Copy 2 has a significantly different conversion rate than Ad Copy 3.\")\n",
        "else:\n",
        "    print(\"Ad Copy 2 does not have a significantly different conversion rate than Ad Copy 3.\")\n",
        "    \n",
        "if p3 < 0.05:\n",
        "    print(\"Ad Copy 1 has a significantly different conversion rate than Ad Copy 3.\")\n",
        "else:\n",
        "    print(\"Ad Copy 1 does not have a significantly different conversion rate than Ad Copy 3.\")"
      ],
      "metadata": {
        "colab": {
          "base_uri": "https://localhost:8080/"
        },
        "id": "eMuHeuS8rV6F",
        "outputId": "f0b7ad65-8749-4227-e548-47aa800a6d26"
      },
      "execution_count": 16,
      "outputs": [
        {
          "output_type": "stream",
          "name": "stdout",
          "text": [
            "Ad Copy 1 has a significantly different conversion rate than Ad Copy 2.\n",
            "Ad Copy 2 has a significantly different conversion rate than Ad Copy 3.\n",
            "Ad Copy 1 has a significantly different conversion rate than Ad Copy 3.\n"
          ]
        }
      ]
    },
    {
      "cell_type": "code",
      "source": [],
      "metadata": {
        "id": "XFxHLfqFtzjR"
      },
      "execution_count": 16,
      "outputs": []
    },
    {
      "cell_type": "code",
      "source": [],
      "metadata": {
        "id": "G2ThTt0auH_x"
      },
      "execution_count": 16,
      "outputs": []
    },
    {
      "cell_type": "code",
      "source": [],
      "metadata": {
        "id": "sUGTllM7vQUC"
      },
      "execution_count": 16,
      "outputs": []
    }
  ]
}