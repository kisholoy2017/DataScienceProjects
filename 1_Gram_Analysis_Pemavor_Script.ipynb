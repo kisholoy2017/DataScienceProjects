{
  "nbformat": 4,
  "nbformat_minor": 0,
  "metadata": {
    "colab": {
      "provenance": []
    },
    "kernelspec": {
      "name": "python3",
      "display_name": "Python 3"
    },
    "language_info": {
      "name": "python"
    }
  },
  "cells": [
    {
      "cell_type": "code",
      "execution_count": 1,
      "metadata": {
        "colab": {
          "base_uri": "https://localhost:8080/",
          "height": 74
        },
        "id": "vT-X7cFt2k5L",
        "outputId": "d64f3cbf-5276-42db-c763-cec17c830ee6"
      },
      "outputs": [
        {
          "output_type": "display_data",
          "data": {
            "text/plain": [
              "<IPython.core.display.HTML object>"
            ],
            "text/html": [
              "\n",
              "     <input type=\"file\" id=\"files-e4701da5-c423-481a-a409-946591cffb3d\" name=\"files[]\" multiple disabled\n",
              "        style=\"border:none\" />\n",
              "     <output id=\"result-e4701da5-c423-481a-a409-946591cffb3d\">\n",
              "      Upload widget is only available when the cell has been executed in the\n",
              "      current browser session. Please rerun this cell to enable.\n",
              "      </output>\n",
              "      <script>// Copyright 2017 Google LLC\n",
              "//\n",
              "// Licensed under the Apache License, Version 2.0 (the \"License\");\n",
              "// you may not use this file except in compliance with the License.\n",
              "// You may obtain a copy of the License at\n",
              "//\n",
              "//      http://www.apache.org/licenses/LICENSE-2.0\n",
              "//\n",
              "// Unless required by applicable law or agreed to in writing, software\n",
              "// distributed under the License is distributed on an \"AS IS\" BASIS,\n",
              "// WITHOUT WARRANTIES OR CONDITIONS OF ANY KIND, either express or implied.\n",
              "// See the License for the specific language governing permissions and\n",
              "// limitations under the License.\n",
              "\n",
              "/**\n",
              " * @fileoverview Helpers for google.colab Python module.\n",
              " */\n",
              "(function(scope) {\n",
              "function span(text, styleAttributes = {}) {\n",
              "  const element = document.createElement('span');\n",
              "  element.textContent = text;\n",
              "  for (const key of Object.keys(styleAttributes)) {\n",
              "    element.style[key] = styleAttributes[key];\n",
              "  }\n",
              "  return element;\n",
              "}\n",
              "\n",
              "// Max number of bytes which will be uploaded at a time.\n",
              "const MAX_PAYLOAD_SIZE = 100 * 1024;\n",
              "\n",
              "function _uploadFiles(inputId, outputId) {\n",
              "  const steps = uploadFilesStep(inputId, outputId);\n",
              "  const outputElement = document.getElementById(outputId);\n",
              "  // Cache steps on the outputElement to make it available for the next call\n",
              "  // to uploadFilesContinue from Python.\n",
              "  outputElement.steps = steps;\n",
              "\n",
              "  return _uploadFilesContinue(outputId);\n",
              "}\n",
              "\n",
              "// This is roughly an async generator (not supported in the browser yet),\n",
              "// where there are multiple asynchronous steps and the Python side is going\n",
              "// to poll for completion of each step.\n",
              "// This uses a Promise to block the python side on completion of each step,\n",
              "// then passes the result of the previous step as the input to the next step.\n",
              "function _uploadFilesContinue(outputId) {\n",
              "  const outputElement = document.getElementById(outputId);\n",
              "  const steps = outputElement.steps;\n",
              "\n",
              "  const next = steps.next(outputElement.lastPromiseValue);\n",
              "  return Promise.resolve(next.value.promise).then((value) => {\n",
              "    // Cache the last promise value to make it available to the next\n",
              "    // step of the generator.\n",
              "    outputElement.lastPromiseValue = value;\n",
              "    return next.value.response;\n",
              "  });\n",
              "}\n",
              "\n",
              "/**\n",
              " * Generator function which is called between each async step of the upload\n",
              " * process.\n",
              " * @param {string} inputId Element ID of the input file picker element.\n",
              " * @param {string} outputId Element ID of the output display.\n",
              " * @return {!Iterable<!Object>} Iterable of next steps.\n",
              " */\n",
              "function* uploadFilesStep(inputId, outputId) {\n",
              "  const inputElement = document.getElementById(inputId);\n",
              "  inputElement.disabled = false;\n",
              "\n",
              "  const outputElement = document.getElementById(outputId);\n",
              "  outputElement.innerHTML = '';\n",
              "\n",
              "  const pickedPromise = new Promise((resolve) => {\n",
              "    inputElement.addEventListener('change', (e) => {\n",
              "      resolve(e.target.files);\n",
              "    });\n",
              "  });\n",
              "\n",
              "  const cancel = document.createElement('button');\n",
              "  inputElement.parentElement.appendChild(cancel);\n",
              "  cancel.textContent = 'Cancel upload';\n",
              "  const cancelPromise = new Promise((resolve) => {\n",
              "    cancel.onclick = () => {\n",
              "      resolve(null);\n",
              "    };\n",
              "  });\n",
              "\n",
              "  // Wait for the user to pick the files.\n",
              "  const files = yield {\n",
              "    promise: Promise.race([pickedPromise, cancelPromise]),\n",
              "    response: {\n",
              "      action: 'starting',\n",
              "    }\n",
              "  };\n",
              "\n",
              "  cancel.remove();\n",
              "\n",
              "  // Disable the input element since further picks are not allowed.\n",
              "  inputElement.disabled = true;\n",
              "\n",
              "  if (!files) {\n",
              "    return {\n",
              "      response: {\n",
              "        action: 'complete',\n",
              "      }\n",
              "    };\n",
              "  }\n",
              "\n",
              "  for (const file of files) {\n",
              "    const li = document.createElement('li');\n",
              "    li.append(span(file.name, {fontWeight: 'bold'}));\n",
              "    li.append(span(\n",
              "        `(${file.type || 'n/a'}) - ${file.size} bytes, ` +\n",
              "        `last modified: ${\n",
              "            file.lastModifiedDate ? file.lastModifiedDate.toLocaleDateString() :\n",
              "                                    'n/a'} - `));\n",
              "    const percent = span('0% done');\n",
              "    li.appendChild(percent);\n",
              "\n",
              "    outputElement.appendChild(li);\n",
              "\n",
              "    const fileDataPromise = new Promise((resolve) => {\n",
              "      const reader = new FileReader();\n",
              "      reader.onload = (e) => {\n",
              "        resolve(e.target.result);\n",
              "      };\n",
              "      reader.readAsArrayBuffer(file);\n",
              "    });\n",
              "    // Wait for the data to be ready.\n",
              "    let fileData = yield {\n",
              "      promise: fileDataPromise,\n",
              "      response: {\n",
              "        action: 'continue',\n",
              "      }\n",
              "    };\n",
              "\n",
              "    // Use a chunked sending to avoid message size limits. See b/62115660.\n",
              "    let position = 0;\n",
              "    do {\n",
              "      const length = Math.min(fileData.byteLength - position, MAX_PAYLOAD_SIZE);\n",
              "      const chunk = new Uint8Array(fileData, position, length);\n",
              "      position += length;\n",
              "\n",
              "      const base64 = btoa(String.fromCharCode.apply(null, chunk));\n",
              "      yield {\n",
              "        response: {\n",
              "          action: 'append',\n",
              "          file: file.name,\n",
              "          data: base64,\n",
              "        },\n",
              "      };\n",
              "\n",
              "      let percentDone = fileData.byteLength === 0 ?\n",
              "          100 :\n",
              "          Math.round((position / fileData.byteLength) * 100);\n",
              "      percent.textContent = `${percentDone}% done`;\n",
              "\n",
              "    } while (position < fileData.byteLength);\n",
              "  }\n",
              "\n",
              "  // All done.\n",
              "  yield {\n",
              "    response: {\n",
              "      action: 'complete',\n",
              "    }\n",
              "  };\n",
              "}\n",
              "\n",
              "scope.google = scope.google || {};\n",
              "scope.google.colab = scope.google.colab || {};\n",
              "scope.google.colab._files = {\n",
              "  _uploadFiles,\n",
              "  _uploadFilesContinue,\n",
              "};\n",
              "})(self);\n",
              "</script> "
            ]
          },
          "metadata": {}
        },
        {
          "output_type": "stream",
          "name": "stdout",
          "text": [
            "Saving Bing search terms.csv to Bing search terms.csv\n"
          ]
        }
      ],
      "source": [
        "import pandas as pd\n",
        "from collections import defaultdict\n",
        "import numpy as np\n",
        "from google.colab import files\n",
        "uploaded = files.upload()"
      ]
    },
    {
      "cell_type": "code",
      "source": [
        "def explode_str(df, col, sep):\n",
        "    s = df[col]\n",
        "    i = np.arange(len(s)).repeat(s.str.count(sep) + 1)\n",
        "    return df.iloc[i].assign(**{col: sep.join(s).split(sep)})"
      ],
      "metadata": {
        "id": "TJXqA8xZ20wC"
      },
      "execution_count": 2,
      "outputs": []
    },
    {
      "cell_type": "code",
      "source": [
        "print(\"----------------------------------------------------------------------------------------------------\")\n",
        "print(\"\\tThe raw report\")\n",
        "print(\"----------------------------------------------------------------------------------------------------\")\n",
        "df = pd.read_csv(\"Bing search terms.csv\")\n",
        "print(df)"
      ],
      "metadata": {
        "colab": {
          "base_uri": "https://localhost:8080/"
        },
        "id": "z6zB3s0m24G9",
        "outputId": "8eb483e9-6c2e-4eed-a786-2bde3c7a10c3"
      },
      "execution_count": 5,
      "outputs": [
        {
          "output_type": "stream",
          "name": "stdout",
          "text": [
            "----------------------------------------------------------------------------------------------------\n",
            "\tThe raw report\n",
            "----------------------------------------------------------------------------------------------------\n",
            "                                                 Query  Impressions  Clicks  \\\n",
            "0        air conduction domes for enjoyee hearing aids         1000     341   \n",
            "1                           choosing hearing aid domes         1010     351   \n",
            "2    do hearing aid open domes come in different sizes         1020     361   \n",
            "3                               domes for hearing aids         1030     371   \n",
            "4                 ear plastic inserts for hearing aids         1040     381   \n",
            "..                                                 ...          ...     ...   \n",
            "398                widex hearing aid replacement tubes         4980    4321   \n",
            "399              hearclear hc64 high power hearing aid         4990    4331   \n",
            "400                         hear clear go hearing aids         5000    4341   \n",
            "401           how much do hear clear hearing aids cost         5010    4351   \n",
            "402           how much to hear clear hearing aids cost         5020    4361   \n",
            "\n",
            "     Costs  Conversions  ConversionValue  \n",
            "0       11            1              500  \n",
            "1       12            2              600  \n",
            "2       13            3              700  \n",
            "3       14            3              800  \n",
            "4       15            2              900  \n",
            "..     ...          ...              ...  \n",
            "398    409          102            40300  \n",
            "399    410          102            40400  \n",
            "400    411          101            40500  \n",
            "401    412          102            40600  \n",
            "402    413          103            40700  \n",
            "\n",
            "[403 rows x 6 columns]\n"
          ]
        }
      ]
    },
    {
      "cell_type": "code",
      "source": [
        "df = explode_str(df, 'Query', ' ')\n",
        "print(\"\")\n",
        "print(\"----------------------------------------------------------------------------------------------------\")\n",
        "print(\"\\tSplitting into 1-Grams\")\n",
        "print(\"----------------------------------------------------------------------------------------------------\")\n",
        "print(df)"
      ],
      "metadata": {
        "colab": {
          "base_uri": "https://localhost:8080/"
        },
        "id": "RRT3dSKQ3Aya",
        "outputId": "576270b8-ea6f-4060-f177-e2dfa68c6c97"
      },
      "execution_count": 6,
      "outputs": [
        {
          "output_type": "stream",
          "name": "stdout",
          "text": [
            "\n",
            "----------------------------------------------------------------------------------------------------\n",
            "\tSplitting into 1-Grams\n",
            "----------------------------------------------------------------------------------------------------\n",
            "          Query  Impressions  Clicks  Costs  Conversions  ConversionValue\n",
            "0           air         1000     341     11            1              500\n",
            "0    conduction         1000     341     11            1              500\n",
            "0         domes         1000     341     11            1              500\n",
            "0           for         1000     341     11            1              500\n",
            "0       enjoyee         1000     341     11            1              500\n",
            "..          ...          ...     ...    ...          ...              ...\n",
            "402        hear         5020    4361    413          103            40700\n",
            "402       clear         5020    4361    413          103            40700\n",
            "402     hearing         5020    4361    413          103            40700\n",
            "402        aids         5020    4361    413          103            40700\n",
            "402        cost         5020    4361    413          103            40700\n",
            "\n",
            "[2152 rows x 6 columns]\n"
          ]
        }
      ]
    },
    {
      "cell_type": "code",
      "source": [
        "df = df.groupby('Query').sum()\n",
        "df = df.reset_index()\n",
        "print(\"\")\n",
        "print(\"----------------------------------------------------------------------------------------------------\")\n",
        "print(\"\\tAggregated Metrics on 1-Grams\")\n",
        "print(\"----------------------------------------------------------------------------------------------------\")\n",
        "print(df)"
      ],
      "metadata": {
        "colab": {
          "base_uri": "https://localhost:8080/"
        },
        "id": "eAfxH_PE3FF6",
        "outputId": "0d200b22-578d-4146-958e-df5e517df08f"
      },
      "execution_count": 7,
      "outputs": [
        {
          "output_type": "stream",
          "name": "stdout",
          "text": [
            "\n",
            "----------------------------------------------------------------------------------------------------\n",
            "\tAggregated Metrics on 1-Grams\n",
            "----------------------------------------------------------------------------------------------------\n",
            "         Query  Impressions  Clicks  Costs  Conversions  ConversionValue\n",
            "0                      2930    2271    204           50            19800\n",
            "1            \"         2390    1731    150           37            14400\n",
            "2      \"phonak         7200    5223    453          110            43500\n",
            "3       \"tulip         2930    2271    204           50            19800\n",
            "4    #054-0810         3460    2801    257           64            25100\n",
            "..         ...          ...     ...    ...          ...              ...\n",
            "376         x1         1570     911     68           16             6200\n",
            "377      x2000         2630    1971    174           43            16800\n",
            "378      yiour         3040    2381    215           52            20900\n",
            "379        you         4220    2902    244           59            23200\n",
            "380        zid         4480    3821    359           88            35300\n",
            "\n",
            "[381 rows x 6 columns]\n"
          ]
        }
      ]
    },
    {
      "cell_type": "code",
      "source": [
        "print(\"\")\n",
        "print(\"----------------------------------------------------------------------------------------------------\")\n",
        "print(\"\\tAdded Calculated Measures\")\n",
        "print(\"----------------------------------------------------------------------------------------------------\")"
      ],
      "metadata": {
        "colab": {
          "base_uri": "https://localhost:8080/"
        },
        "id": "eEQa4Hh03DVy",
        "outputId": "4ca3677f-0327-4c5d-8edc-c589cf135266"
      },
      "execution_count": 8,
      "outputs": [
        {
          "output_type": "stream",
          "name": "stdout",
          "text": [
            "\n",
            "----------------------------------------------------------------------------------------------------\n",
            "\tAdded Calculated Measures\n",
            "----------------------------------------------------------------------------------------------------\n"
          ]
        }
      ]
    },
    {
      "cell_type": "code",
      "source": [
        "# Define your calculated measures here:\n",
        "df['CR'] = df['Conversions']/df['Clicks']\n",
        "df['CPO'] = df['Costs'] / df['Conversions']\n",
        "print(df)"
      ],
      "metadata": {
        "colab": {
          "base_uri": "https://localhost:8080/"
        },
        "id": "t4f1GQYc3LPa",
        "outputId": "126a817f-6aac-4148-f6fc-fdb1550af6c4"
      },
      "execution_count": 9,
      "outputs": [
        {
          "output_type": "stream",
          "name": "stdout",
          "text": [
            "         Query  Impressions  Clicks  Costs  Conversions  ConversionValue  \\\n",
            "0                      2930    2271    204           50            19800   \n",
            "1            \"         2390    1731    150           37            14400   \n",
            "2      \"phonak         7200    5223    453          110            43500   \n",
            "3       \"tulip         2930    2271    204           50            19800   \n",
            "4    #054-0810         3460    2801    257           64            25100   \n",
            "..         ...          ...     ...    ...          ...              ...   \n",
            "376         x1         1570     911     68           16             6200   \n",
            "377      x2000         2630    1971    174           43            16800   \n",
            "378      yiour         3040    2381    215           52            20900   \n",
            "379        you         4220    2902    244           59            23200   \n",
            "380        zid         4480    3821    359           88            35300   \n",
            "\n",
            "           CR       CPO  \n",
            "0    0.022017  4.080000  \n",
            "1    0.021375  4.054054  \n",
            "2    0.021061  4.118182  \n",
            "3    0.022017  4.080000  \n",
            "4    0.022849  4.015625  \n",
            "..        ...       ...  \n",
            "376  0.017563  4.250000  \n",
            "377  0.021816  4.046512  \n",
            "378  0.021840  4.134615  \n",
            "379  0.020331  4.135593  \n",
            "380  0.023031  4.079545  \n",
            "\n",
            "[381 rows x 8 columns]\n"
          ]
        }
      ]
    },
    {
      "cell_type": "code",
      "source": [
        "df.to_csv('output.csv', encoding = 'utf-8-sig')\n",
        "files.download('output.csv')"
      ],
      "metadata": {
        "colab": {
          "base_uri": "https://localhost:8080/",
          "height": 17
        },
        "id": "lFpAr79U3Nsq",
        "outputId": "70f503c0-17ca-43c1-92b8-9b8c1ad05fb7"
      },
      "execution_count": 10,
      "outputs": [
        {
          "output_type": "display_data",
          "data": {
            "text/plain": [
              "<IPython.core.display.Javascript object>"
            ],
            "application/javascript": [
              "\n",
              "    async function download(id, filename, size) {\n",
              "      if (!google.colab.kernel.accessAllowed) {\n",
              "        return;\n",
              "      }\n",
              "      const div = document.createElement('div');\n",
              "      const label = document.createElement('label');\n",
              "      label.textContent = `Downloading \"${filename}\": `;\n",
              "      div.appendChild(label);\n",
              "      const progress = document.createElement('progress');\n",
              "      progress.max = size;\n",
              "      div.appendChild(progress);\n",
              "      document.body.appendChild(div);\n",
              "\n",
              "      const buffers = [];\n",
              "      let downloaded = 0;\n",
              "\n",
              "      const channel = await google.colab.kernel.comms.open(id);\n",
              "      // Send a message to notify the kernel that we're ready.\n",
              "      channel.send({})\n",
              "\n",
              "      for await (const message of channel.messages) {\n",
              "        // Send a message to notify the kernel that we're ready.\n",
              "        channel.send({})\n",
              "        if (message.buffers) {\n",
              "          for (const buffer of message.buffers) {\n",
              "            buffers.push(buffer);\n",
              "            downloaded += buffer.byteLength;\n",
              "            progress.value = downloaded;\n",
              "          }\n",
              "        }\n",
              "      }\n",
              "      const blob = new Blob(buffers, {type: 'application/binary'});\n",
              "      const a = document.createElement('a');\n",
              "      a.href = window.URL.createObjectURL(blob);\n",
              "      a.download = filename;\n",
              "      div.appendChild(a);\n",
              "      a.click();\n",
              "      div.remove();\n",
              "    }\n",
              "  "
            ]
          },
          "metadata": {}
        },
        {
          "output_type": "display_data",
          "data": {
            "text/plain": [
              "<IPython.core.display.Javascript object>"
            ],
            "application/javascript": [
              "download(\"download_d3828397-ad4a-463b-8e8d-f421c1006e88\", \"output.csv\", 27152)"
            ]
          },
          "metadata": {}
        }
      ]
    }
  ]
}