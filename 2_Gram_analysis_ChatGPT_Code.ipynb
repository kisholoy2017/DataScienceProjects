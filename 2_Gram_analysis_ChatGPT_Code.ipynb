{
  "nbformat": 4,
  "nbformat_minor": 0,
  "metadata": {
    "colab": {
      "provenance": []
    },
    "kernelspec": {
      "name": "python3",
      "display_name": "Python 3"
    },
    "language_info": {
      "name": "python"
    }
  },
  "cells": [
    {
      "cell_type": "code",
      "execution_count": 9,
      "metadata": {
        "id": "_4m_WpfR7oKS"
      },
      "outputs": [],
      "source": [
        "import pandas as pd\n",
        "from collections import defaultdict\n",
        "import numpy as np\n",
        "\n",
        "def ngrams(text, n):\n",
        "    return [' '.join(text[i:i+n]) for i in range(len(text)-n+1)]\n",
        "\n",
        "def explode_str(df, col, sep, n):\n",
        "    s = df[col].str.split(sep)\n",
        "    i = np.arange(len(s)).repeat(s.apply(lambda x: max(len(x) - n + 1, 0)))\n",
        "    ngrams_list = s.apply(lambda x: ngrams(x, n)).explode().reset_index(drop=True)\n",
        "    return df.iloc[i].assign(**{col: ngrams_list})\n",
        "\n"
      ]
    },
    {
      "cell_type": "code",
      "source": [
        "from google.colab import files\n",
        "uploaded = files.upload()"
      ],
      "metadata": {
        "colab": {
          "base_uri": "https://localhost:8080/",
          "height": 74
        },
        "id": "dtYAQ2MW8SVK",
        "outputId": "83d67d4f-b6cd-4201-f3a4-9ad973fe9024"
      },
      "execution_count": 10,
      "outputs": [
        {
          "output_type": "display_data",
          "data": {
            "text/plain": [
              "<IPython.core.display.HTML object>"
            ],
            "text/html": [
              "\n",
              "     <input type=\"file\" id=\"files-6b0817ca-681a-43a1-a4cb-299a7be83f8e\" name=\"files[]\" multiple disabled\n",
              "        style=\"border:none\" />\n",
              "     <output id=\"result-6b0817ca-681a-43a1-a4cb-299a7be83f8e\">\n",
              "      Upload widget is only available when the cell has been executed in the\n",
              "      current browser session. Please rerun this cell to enable.\n",
              "      </output>\n",
              "      <script>// Copyright 2017 Google LLC\n",
              "//\n",
              "// Licensed under the Apache License, Version 2.0 (the \"License\");\n",
              "// you may not use this file except in compliance with the License.\n",
              "// You may obtain a copy of the License at\n",
              "//\n",
              "//      http://www.apache.org/licenses/LICENSE-2.0\n",
              "//\n",
              "// Unless required by applicable law or agreed to in writing, software\n",
              "// distributed under the License is distributed on an \"AS IS\" BASIS,\n",
              "// WITHOUT WARRANTIES OR CONDITIONS OF ANY KIND, either express or implied.\n",
              "// See the License for the specific language governing permissions and\n",
              "// limitations under the License.\n",
              "\n",
              "/**\n",
              " * @fileoverview Helpers for google.colab Python module.\n",
              " */\n",
              "(function(scope) {\n",
              "function span(text, styleAttributes = {}) {\n",
              "  const element = document.createElement('span');\n",
              "  element.textContent = text;\n",
              "  for (const key of Object.keys(styleAttributes)) {\n",
              "    element.style[key] = styleAttributes[key];\n",
              "  }\n",
              "  return element;\n",
              "}\n",
              "\n",
              "// Max number of bytes which will be uploaded at a time.\n",
              "const MAX_PAYLOAD_SIZE = 100 * 1024;\n",
              "\n",
              "function _uploadFiles(inputId, outputId) {\n",
              "  const steps = uploadFilesStep(inputId, outputId);\n",
              "  const outputElement = document.getElementById(outputId);\n",
              "  // Cache steps on the outputElement to make it available for the next call\n",
              "  // to uploadFilesContinue from Python.\n",
              "  outputElement.steps = steps;\n",
              "\n",
              "  return _uploadFilesContinue(outputId);\n",
              "}\n",
              "\n",
              "// This is roughly an async generator (not supported in the browser yet),\n",
              "// where there are multiple asynchronous steps and the Python side is going\n",
              "// to poll for completion of each step.\n",
              "// This uses a Promise to block the python side on completion of each step,\n",
              "// then passes the result of the previous step as the input to the next step.\n",
              "function _uploadFilesContinue(outputId) {\n",
              "  const outputElement = document.getElementById(outputId);\n",
              "  const steps = outputElement.steps;\n",
              "\n",
              "  const next = steps.next(outputElement.lastPromiseValue);\n",
              "  return Promise.resolve(next.value.promise).then((value) => {\n",
              "    // Cache the last promise value to make it available to the next\n",
              "    // step of the generator.\n",
              "    outputElement.lastPromiseValue = value;\n",
              "    return next.value.response;\n",
              "  });\n",
              "}\n",
              "\n",
              "/**\n",
              " * Generator function which is called between each async step of the upload\n",
              " * process.\n",
              " * @param {string} inputId Element ID of the input file picker element.\n",
              " * @param {string} outputId Element ID of the output display.\n",
              " * @return {!Iterable<!Object>} Iterable of next steps.\n",
              " */\n",
              "function* uploadFilesStep(inputId, outputId) {\n",
              "  const inputElement = document.getElementById(inputId);\n",
              "  inputElement.disabled = false;\n",
              "\n",
              "  const outputElement = document.getElementById(outputId);\n",
              "  outputElement.innerHTML = '';\n",
              "\n",
              "  const pickedPromise = new Promise((resolve) => {\n",
              "    inputElement.addEventListener('change', (e) => {\n",
              "      resolve(e.target.files);\n",
              "    });\n",
              "  });\n",
              "\n",
              "  const cancel = document.createElement('button');\n",
              "  inputElement.parentElement.appendChild(cancel);\n",
              "  cancel.textContent = 'Cancel upload';\n",
              "  const cancelPromise = new Promise((resolve) => {\n",
              "    cancel.onclick = () => {\n",
              "      resolve(null);\n",
              "    };\n",
              "  });\n",
              "\n",
              "  // Wait for the user to pick the files.\n",
              "  const files = yield {\n",
              "    promise: Promise.race([pickedPromise, cancelPromise]),\n",
              "    response: {\n",
              "      action: 'starting',\n",
              "    }\n",
              "  };\n",
              "\n",
              "  cancel.remove();\n",
              "\n",
              "  // Disable the input element since further picks are not allowed.\n",
              "  inputElement.disabled = true;\n",
              "\n",
              "  if (!files) {\n",
              "    return {\n",
              "      response: {\n",
              "        action: 'complete',\n",
              "      }\n",
              "    };\n",
              "  }\n",
              "\n",
              "  for (const file of files) {\n",
              "    const li = document.createElement('li');\n",
              "    li.append(span(file.name, {fontWeight: 'bold'}));\n",
              "    li.append(span(\n",
              "        `(${file.type || 'n/a'}) - ${file.size} bytes, ` +\n",
              "        `last modified: ${\n",
              "            file.lastModifiedDate ? file.lastModifiedDate.toLocaleDateString() :\n",
              "                                    'n/a'} - `));\n",
              "    const percent = span('0% done');\n",
              "    li.appendChild(percent);\n",
              "\n",
              "    outputElement.appendChild(li);\n",
              "\n",
              "    const fileDataPromise = new Promise((resolve) => {\n",
              "      const reader = new FileReader();\n",
              "      reader.onload = (e) => {\n",
              "        resolve(e.target.result);\n",
              "      };\n",
              "      reader.readAsArrayBuffer(file);\n",
              "    });\n",
              "    // Wait for the data to be ready.\n",
              "    let fileData = yield {\n",
              "      promise: fileDataPromise,\n",
              "      response: {\n",
              "        action: 'continue',\n",
              "      }\n",
              "    };\n",
              "\n",
              "    // Use a chunked sending to avoid message size limits. See b/62115660.\n",
              "    let position = 0;\n",
              "    do {\n",
              "      const length = Math.min(fileData.byteLength - position, MAX_PAYLOAD_SIZE);\n",
              "      const chunk = new Uint8Array(fileData, position, length);\n",
              "      position += length;\n",
              "\n",
              "      const base64 = btoa(String.fromCharCode.apply(null, chunk));\n",
              "      yield {\n",
              "        response: {\n",
              "          action: 'append',\n",
              "          file: file.name,\n",
              "          data: base64,\n",
              "        },\n",
              "      };\n",
              "\n",
              "      let percentDone = fileData.byteLength === 0 ?\n",
              "          100 :\n",
              "          Math.round((position / fileData.byteLength) * 100);\n",
              "      percent.textContent = `${percentDone}% done`;\n",
              "\n",
              "    } while (position < fileData.byteLength);\n",
              "  }\n",
              "\n",
              "  // All done.\n",
              "  yield {\n",
              "    response: {\n",
              "      action: 'complete',\n",
              "    }\n",
              "  };\n",
              "}\n",
              "\n",
              "scope.google = scope.google || {};\n",
              "scope.google.colab = scope.google.colab || {};\n",
              "scope.google.colab._files = {\n",
              "  _uploadFiles,\n",
              "  _uploadFilesContinue,\n",
              "};\n",
              "})(self);\n",
              "</script> "
            ]
          },
          "metadata": {}
        },
        {
          "output_type": "stream",
          "name": "stdout",
          "text": [
            "Saving Bing search terms.csv to Bing search terms (1).csv\n"
          ]
        }
      ]
    },
    {
      "cell_type": "code",
      "source": [
        "# queries.csv contains your search term report with KPIs\n",
        "# Adjust delimiter by setting the sep= parameter\n",
        "print(\"----------------------------------------------------------------------------------------------------\")\n",
        "print(\"\\tThe raw report\")\n",
        "print(\"----------------------------------------------------------------------------------------------------\")\n",
        "df = pd.read_csv(\"Bing search terms.csv\")\n",
        "print(df)"
      ],
      "metadata": {
        "colab": {
          "base_uri": "https://localhost:8080/"
        },
        "id": "lWgRnCzl8k_L",
        "outputId": "ede46f1b-0c3b-45f2-cfc3-7ec762419bd8"
      },
      "execution_count": 11,
      "outputs": [
        {
          "output_type": "stream",
          "name": "stdout",
          "text": [
            "----------------------------------------------------------------------------------------------------\n",
            "\tThe raw report\n",
            "----------------------------------------------------------------------------------------------------\n",
            "                                                 Query  Impressions  Clicks  \\\n",
            "0        air conduction domes for enjoyee hearing aids         1000     341   \n",
            "1                           choosing hearing aid domes         1010     351   \n",
            "2    do hearing aid open domes come in different sizes         1020     361   \n",
            "3                               domes for hearing aids         1030     371   \n",
            "4                 ear plastic inserts for hearing aids         1040     381   \n",
            "..                                                 ...          ...     ...   \n",
            "398                widex hearing aid replacement tubes         4980    4321   \n",
            "399              hearclear hc64 high power hearing aid         4990    4331   \n",
            "400                         hear clear go hearing aids         5000    4341   \n",
            "401           how much do hear clear hearing aids cost         5010    4351   \n",
            "402           how much to hear clear hearing aids cost         5020    4361   \n",
            "\n",
            "     Costs  Conversions  ConversionValue  \n",
            "0       11            1              500  \n",
            "1       12            2              600  \n",
            "2       13            3              700  \n",
            "3       14            3              800  \n",
            "4       15            2              900  \n",
            "..     ...          ...              ...  \n",
            "398    409          102            40300  \n",
            "399    410          102            40400  \n",
            "400    411          101            40500  \n",
            "401    412          102            40600  \n",
            "402    413          103            40700  \n",
            "\n",
            "[403 rows x 6 columns]\n"
          ]
        }
      ]
    },
    {
      "cell_type": "code",
      "source": [
        "# Create 1-Grams by splitting 1 row to multiple rows\n",
        "# \"Query\" is the columnname where you want to apply the n-Gram analysis\n",
        "df_1grams = explode_str(df, 'Query', ' ', 1)\n",
        "print(\"\")\n",
        "print(\"----------------------------------------------------------------------------------------------------\")\n",
        "print(\"\\tSplitting into 1-Grams\")\n",
        "print(\"----------------------------------------------------------------------------------------------------\")\n",
        "df_1grams.tail()\n"
      ],
      "metadata": {
        "colab": {
          "base_uri": "https://localhost:8080/",
          "height": 276
        },
        "id": "zXaLBwD28uBD",
        "outputId": "f5c83ec5-490e-499e-d84b-1c93d38e2d89"
      },
      "execution_count": 14,
      "outputs": [
        {
          "output_type": "stream",
          "name": "stdout",
          "text": [
            "\n",
            "----------------------------------------------------------------------------------------------------\n",
            "\tSplitting into 1-Grams\n",
            "----------------------------------------------------------------------------------------------------\n"
          ]
        },
        {
          "output_type": "execute_result",
          "data": {
            "text/plain": [
              "         Query  Impressions  Clicks  Costs  Conversions  ConversionValue\n",
              "402  affordale         5020    4361    413          103            40700\n",
              "402  affordale         5020    4361    413          103            40700\n",
              "402  affordale         5020    4361    413          103            40700\n",
              "402  affordale         5020    4361    413          103            40700\n",
              "402  affordale         5020    4361    413          103            40700"
            ],
            "text/html": [
              "\n",
              "  <div id=\"df-f48240c9-2e4a-45a9-b0e5-d0e49df0768a\">\n",
              "    <div class=\"colab-df-container\">\n",
              "      <div>\n",
              "<style scoped>\n",
              "    .dataframe tbody tr th:only-of-type {\n",
              "        vertical-align: middle;\n",
              "    }\n",
              "\n",
              "    .dataframe tbody tr th {\n",
              "        vertical-align: top;\n",
              "    }\n",
              "\n",
              "    .dataframe thead th {\n",
              "        text-align: right;\n",
              "    }\n",
              "</style>\n",
              "<table border=\"1\" class=\"dataframe\">\n",
              "  <thead>\n",
              "    <tr style=\"text-align: right;\">\n",
              "      <th></th>\n",
              "      <th>Query</th>\n",
              "      <th>Impressions</th>\n",
              "      <th>Clicks</th>\n",
              "      <th>Costs</th>\n",
              "      <th>Conversions</th>\n",
              "      <th>ConversionValue</th>\n",
              "    </tr>\n",
              "  </thead>\n",
              "  <tbody>\n",
              "    <tr>\n",
              "      <th>402</th>\n",
              "      <td>affordale</td>\n",
              "      <td>5020</td>\n",
              "      <td>4361</td>\n",
              "      <td>413</td>\n",
              "      <td>103</td>\n",
              "      <td>40700</td>\n",
              "    </tr>\n",
              "    <tr>\n",
              "      <th>402</th>\n",
              "      <td>affordale</td>\n",
              "      <td>5020</td>\n",
              "      <td>4361</td>\n",
              "      <td>413</td>\n",
              "      <td>103</td>\n",
              "      <td>40700</td>\n",
              "    </tr>\n",
              "    <tr>\n",
              "      <th>402</th>\n",
              "      <td>affordale</td>\n",
              "      <td>5020</td>\n",
              "      <td>4361</td>\n",
              "      <td>413</td>\n",
              "      <td>103</td>\n",
              "      <td>40700</td>\n",
              "    </tr>\n",
              "    <tr>\n",
              "      <th>402</th>\n",
              "      <td>affordale</td>\n",
              "      <td>5020</td>\n",
              "      <td>4361</td>\n",
              "      <td>413</td>\n",
              "      <td>103</td>\n",
              "      <td>40700</td>\n",
              "    </tr>\n",
              "    <tr>\n",
              "      <th>402</th>\n",
              "      <td>affordale</td>\n",
              "      <td>5020</td>\n",
              "      <td>4361</td>\n",
              "      <td>413</td>\n",
              "      <td>103</td>\n",
              "      <td>40700</td>\n",
              "    </tr>\n",
              "  </tbody>\n",
              "</table>\n",
              "</div>\n",
              "      <button class=\"colab-df-convert\" onclick=\"convertToInteractive('df-f48240c9-2e4a-45a9-b0e5-d0e49df0768a')\"\n",
              "              title=\"Convert this dataframe to an interactive table.\"\n",
              "              style=\"display:none;\">\n",
              "        \n",
              "  <svg xmlns=\"http://www.w3.org/2000/svg\" height=\"24px\"viewBox=\"0 0 24 24\"\n",
              "       width=\"24px\">\n",
              "    <path d=\"M0 0h24v24H0V0z\" fill=\"none\"/>\n",
              "    <path d=\"M18.56 5.44l.94 2.06.94-2.06 2.06-.94-2.06-.94-.94-2.06-.94 2.06-2.06.94zm-11 1L8.5 8.5l.94-2.06 2.06-.94-2.06-.94L8.5 2.5l-.94 2.06-2.06.94zm10 10l.94 2.06.94-2.06 2.06-.94-2.06-.94-.94-2.06-.94 2.06-2.06.94z\"/><path d=\"M17.41 7.96l-1.37-1.37c-.4-.4-.92-.59-1.43-.59-.52 0-1.04.2-1.43.59L10.3 9.45l-7.72 7.72c-.78.78-.78 2.05 0 2.83L4 21.41c.39.39.9.59 1.41.59.51 0 1.02-.2 1.41-.59l7.78-7.78 2.81-2.81c.8-.78.8-2.07 0-2.86zM5.41 20L4 18.59l7.72-7.72 1.47 1.35L5.41 20z\"/>\n",
              "  </svg>\n",
              "      </button>\n",
              "      \n",
              "  <style>\n",
              "    .colab-df-container {\n",
              "      display:flex;\n",
              "      flex-wrap:wrap;\n",
              "      gap: 12px;\n",
              "    }\n",
              "\n",
              "    .colab-df-convert {\n",
              "      background-color: #E8F0FE;\n",
              "      border: none;\n",
              "      border-radius: 50%;\n",
              "      cursor: pointer;\n",
              "      display: none;\n",
              "      fill: #1967D2;\n",
              "      height: 32px;\n",
              "      padding: 0 0 0 0;\n",
              "      width: 32px;\n",
              "    }\n",
              "\n",
              "    .colab-df-convert:hover {\n",
              "      background-color: #E2EBFA;\n",
              "      box-shadow: 0px 1px 2px rgba(60, 64, 67, 0.3), 0px 1px 3px 1px rgba(60, 64, 67, 0.15);\n",
              "      fill: #174EA6;\n",
              "    }\n",
              "\n",
              "    [theme=dark] .colab-df-convert {\n",
              "      background-color: #3B4455;\n",
              "      fill: #D2E3FC;\n",
              "    }\n",
              "\n",
              "    [theme=dark] .colab-df-convert:hover {\n",
              "      background-color: #434B5C;\n",
              "      box-shadow: 0px 1px 3px 1px rgba(0, 0, 0, 0.15);\n",
              "      filter: drop-shadow(0px 1px 2px rgba(0, 0, 0, 0.3));\n",
              "      fill: #FFFFFF;\n",
              "    }\n",
              "  </style>\n",
              "\n",
              "      <script>\n",
              "        const buttonEl =\n",
              "          document.querySelector('#df-f48240c9-2e4a-45a9-b0e5-d0e49df0768a button.colab-df-convert');\n",
              "        buttonEl.style.display =\n",
              "          google.colab.kernel.accessAllowed ? 'block' : 'none';\n",
              "\n",
              "        async function convertToInteractive(key) {\n",
              "          const element = document.querySelector('#df-f48240c9-2e4a-45a9-b0e5-d0e49df0768a');\n",
              "          const dataTable =\n",
              "            await google.colab.kernel.invokeFunction('convertToInteractive',\n",
              "                                                     [key], {});\n",
              "          if (!dataTable) return;\n",
              "\n",
              "          const docLinkHtml = 'Like what you see? Visit the ' +\n",
              "            '<a target=\"_blank\" href=https://colab.research.google.com/notebooks/data_table.ipynb>data table notebook</a>'\n",
              "            + ' to learn more about interactive tables.';\n",
              "          element.innerHTML = '';\n",
              "          dataTable['output_type'] = 'display_data';\n",
              "          await google.colab.output.renderOutput(dataTable, element);\n",
              "          const docLink = document.createElement('div');\n",
              "          docLink.innerHTML = docLinkHtml;\n",
              "          element.appendChild(docLink);\n",
              "        }\n",
              "      </script>\n",
              "    </div>\n",
              "  </div>\n",
              "  "
            ]
          },
          "metadata": {},
          "execution_count": 14
        }
      ]
    },
    {
      "cell_type": "code",
      "source": [
        "# Create 2-Grams by splitting 1 row to multiple rows\n",
        "df_2grams = explode_str(df, 'Query', ' ', 2)\n",
        "print(\"\")\n",
        "print(\"----------------------------------------------------------------------------------------------------\")\n",
        "print(\"\\tSplitting into 2-Grams\")\n",
        "print(\"----------------------------------------------------------------------------------------------------\")\n",
        "print(df_2grams)"
      ],
      "metadata": {
        "colab": {
          "base_uri": "https://localhost:8080/"
        },
        "id": "HCvOqyHq9IN7",
        "outputId": "6900eda3-04e5-4ea7-8c95-e87e97f21175"
      },
      "execution_count": 15,
      "outputs": [
        {
          "output_type": "stream",
          "name": "stdout",
          "text": [
            "\n",
            "----------------------------------------------------------------------------------------------------\n",
            "\tSplitting into 2-Grams\n",
            "----------------------------------------------------------------------------------------------------\n",
            "              Query  Impressions  Clicks  Costs  Conversions  ConversionValue\n",
            "0    air conduction         1000     341     11            1              500\n",
            "0    air conduction         1000     341     11            1              500\n",
            "0    air conduction         1000     341     11            1              500\n",
            "0    air conduction         1000     341     11            1              500\n",
            "0    air conduction         1000     341     11            1              500\n",
            "..              ...          ...     ...    ...          ...              ...\n",
            "402       aid tubes         5020    4361    413          103            40700\n",
            "402       aid tubes         5020    4361    413          103            40700\n",
            "402       aid tubes         5020    4361    413          103            40700\n",
            "402       aid tubes         5020    4361    413          103            40700\n",
            "402       aid tubes         5020    4361    413          103            40700\n",
            "\n",
            "[1749 rows x 6 columns]\n"
          ]
        }
      ]
    },
    {
      "cell_type": "code",
      "source": [
        "# Group by N-Grams\n",
        "df_1grams = df_1grams.groupby('Query').sum()\n",
        "df_1grams = df_1grams.reset_index()\n",
        "print(\"\")\n",
        "print(\"----------------------------------------------------------------------------------------------------\")\n",
        "print(\"\\tAggregated Metrics on 1-Grams\")\n",
        "print(\"----------------------------------------------------------------------------------------------------\")\n",
        "print(df_1grams)"
      ],
      "metadata": {
        "colab": {
          "base_uri": "https://localhost:8080/"
        },
        "id": "-qq6PS4w-yvo",
        "outputId": "07fd099f-af47-461f-b50f-ce77a97769a6"
      },
      "execution_count": 16,
      "outputs": [
        {
          "output_type": "stream",
          "name": "stdout",
          "text": [
            "\n",
            "----------------------------------------------------------------------------------------------------\n",
            "\tAggregated Metrics on 1-Grams\n",
            "----------------------------------------------------------------------------------------------------\n",
            "     Query  Impressions  Clicks  Costs  Conversions  ConversionValue\n",
            "0        -         8280    6962    650          162            63800\n",
            "1     11mm        39380   30154   2692          659           260800\n",
            "2       12        19740   15786   1440          354           140400\n",
            "3      200        10140    6186    480          114            44400\n",
            "4      8mm        43730   33845   3038          746           294800\n",
            "..     ...          ...     ...    ...          ...              ...\n",
            "115   what        62940   52396   4870         1194           477400\n",
            "116  which        24500   21205   2005          500           197500\n",
            "117   with        17700   14405   1325          330           129500\n",
            "118     x1        27160   22547   2093          511           205100\n",
            "119    you         9600    6305    515          120            48500\n",
            "\n",
            "[120 rows x 6 columns]\n"
          ]
        }
      ]
    },
    {
      "cell_type": "code",
      "source": [
        "df_2grams = df_2grams.groupby('Query').sum()\n",
        "df_2grams = df_2grams.reset_index()\n",
        "print(\"\")\n",
        "print(\"----------------------------------------------------------------------------------------------------\")\n",
        "print(\"\\tAggregated Metrics on 2-Grams\")\n",
        "print(\"----------------------------------------------------------------------------------------------------\")\n",
        "print(df_2grams)"
      ],
      "metadata": {
        "colab": {
          "base_uri": "https://localhost:8080/"
        },
        "id": "CNGy3Du_-9PU",
        "outputId": "2c315316-852b-471f-ed54-bb64c9423b2c"
      },
      "execution_count": 17,
      "outputs": [
        {
          "output_type": "stream",
          "name": "stdout",
          "text": [
            "\n",
            "----------------------------------------------------------------------------------------------------\n",
            "\tAggregated Metrics on 2-Grams\n",
            "----------------------------------------------------------------------------------------------------\n",
            "            Query  Impressions  Clicks  Costs  Conversions  ConversionValue\n",
            "0         - sizes        14120   11484   1056          260           103200\n",
            "1    11mm hearing        12960    9665    851          204            82100\n",
            "2           12 mm         8490    6513    582          144            56400\n",
            "3          13 trs        28500   24546   2316          576           228000\n",
            "4     200 hearing         6240    3604    268           60            24400\n",
            "..            ...          ...     ...    ...          ...              ...\n",
            "203     what size        20250   16955   1580          390           155000\n",
            "204    which dome         4140    3481    325           81            31900\n",
            "205       with my        57760   45239   4085          988           397100\n",
            "206  x1 invisible        13240   10604    968          240            94400\n",
            "207       you buy         5220    3243    255           63            23700\n",
            "\n",
            "[208 rows x 6 columns]\n"
          ]
        }
      ]
    },
    {
      "cell_type": "code",
      "source": [
        "print(\"\")\n",
        "print(\"----------------------------------------------------------------------------------------------------\")\n",
        "print(\"\\tAdded Calculated Measures\")\n",
        "print(\"----------------------------------------------------------------------------------------------------\")"
      ],
      "metadata": {
        "colab": {
          "base_uri": "https://localhost:8080/"
        },
        "id": "R6VOHefp_Nsa",
        "outputId": "515b83c2-9c69-4168-a53e-e7727b520cb5"
      },
      "execution_count": 18,
      "outputs": [
        {
          "output_type": "stream",
          "name": "stdout",
          "text": [
            "\n",
            "----------------------------------------------------------------------------------------------------\n",
            "\tAdded Calculated Measures\n",
            "----------------------------------------------------------------------------------------------------\n"
          ]
        }
      ]
    },
    {
      "cell_type": "code",
      "source": [
        "# Define your calculated measures here:\n",
        "df_1grams['CR'] = df_1grams['Conversions']/df_1grams['Clicks']\n",
        "df_1grams['CPO'] = df_1grams['Costs'] / df_1grams['Conversions']\n",
        "print(\"1-Grams:\")\n",
        "print(df_1grams)"
      ],
      "metadata": {
        "colab": {
          "base_uri": "https://localhost:8080/"
        },
        "id": "YmFaPKle_Rql",
        "outputId": "28eb2018-1290-47ce-e6b1-113e8ca91288"
      },
      "execution_count": 19,
      "outputs": [
        {
          "output_type": "stream",
          "name": "stdout",
          "text": [
            "1-Grams:\n",
            "     Query  Impressions  Clicks  Costs  Conversions  ConversionValue  \\\n",
            "0        -         8280    6962    650          162            63800   \n",
            "1     11mm        39380   30154   2692          659           260800   \n",
            "2       12        19740   15786   1440          354           140400   \n",
            "3      200        10140    6186    480          114            44400   \n",
            "4      8mm        43730   33845   3038          746           294800   \n",
            "..     ...          ...     ...    ...          ...              ...   \n",
            "115   what        62940   52396   4870         1194           477400   \n",
            "116  which        24500   21205   2005          500           197500   \n",
            "117   with        17700   14405   1325          330           129500   \n",
            "118     x1        27160   22547   2093          511           205100   \n",
            "119    you         9600    6305    515          120            48500   \n",
            "\n",
            "           CR       CPO  \n",
            "0    0.023269  4.012346  \n",
            "1    0.021854  4.084977  \n",
            "2    0.022425  4.067797  \n",
            "3    0.018429  4.210526  \n",
            "4    0.022042  4.072386  \n",
            "..        ...       ...  \n",
            "115  0.022788  4.078727  \n",
            "116  0.023579  4.010000  \n",
            "117  0.022909  4.015152  \n",
            "118  0.022664  4.095890  \n",
            "119  0.019033  4.291667  \n",
            "\n",
            "[120 rows x 8 columns]\n"
          ]
        }
      ]
    },
    {
      "cell_type": "code",
      "source": [
        "df_2grams['CR'] = df_2grams['Conversions']/df_2grams['Clicks']\n",
        "df_2grams['CPO'] = df_2grams['Costs'] / df_2grams['Conversions']\n",
        "print(\"\\n2-Grams:\")\n",
        "print(df_2grams)"
      ],
      "metadata": {
        "colab": {
          "base_uri": "https://localhost:8080/"
        },
        "id": "hd_hdcuO_UxL",
        "outputId": "4ca42cd5-b150-4e52-d676-e0341647c09f"
      },
      "execution_count": 20,
      "outputs": [
        {
          "output_type": "stream",
          "name": "stdout",
          "text": [
            "\n",
            "2-Grams:\n",
            "            Query  Impressions  Clicks  Costs  Conversions  ConversionValue  \\\n",
            "0         - sizes        14120   11484   1056          260           103200   \n",
            "1    11mm hearing        12960    9665    851          204            82100   \n",
            "2           12 mm         8490    6513    582          144            56400   \n",
            "3          13 trs        28500   24546   2316          576           228000   \n",
            "4     200 hearing         6240    3604    268           60            24400   \n",
            "..            ...          ...     ...    ...          ...              ...   \n",
            "203     what size        20250   16955   1580          390           155000   \n",
            "204    which dome         4140    3481    325           81            31900   \n",
            "205       with my        57760   45239   4085          988           397100   \n",
            "206  x1 invisible        13240   10604    968          240            94400   \n",
            "207       you buy         5220    3243    255           63            23700   \n",
            "\n",
            "           CR       CPO  \n",
            "0    0.022640  4.061538  \n",
            "1    0.021107  4.171569  \n",
            "2    0.022110  4.041667  \n",
            "3    0.023466  4.020833  \n",
            "4    0.016648  4.466667  \n",
            "..        ...       ...  \n",
            "203  0.023002  4.051282  \n",
            "204  0.023269  4.012346  \n",
            "205  0.021840  4.134615  \n",
            "206  0.022633  4.033333  \n",
            "207  0.019426  4.047619  \n",
            "\n",
            "[208 rows x 8 columns]\n"
          ]
        }
      ]
    },
    {
      "cell_type": "code",
      "source": [
        "df_1grams.to_csv(\"1grams.csv\",index=False)\n",
        "df_2grams.to_csv(\"2grams.csv\",index=False)\n",
        "files.download('1grams.csv')\n",
        "files.download('2grams.csv')"
      ],
      "metadata": {
        "colab": {
          "base_uri": "https://localhost:8080/",
          "height": 17
        },
        "id": "297rEFhR_n87",
        "outputId": "d5bfc9d2-4c99-4850-ad9f-010cae469f1c"
      },
      "execution_count": 21,
      "outputs": [
        {
          "output_type": "display_data",
          "data": {
            "text/plain": [
              "<IPython.core.display.Javascript object>"
            ],
            "application/javascript": [
              "\n",
              "    async function download(id, filename, size) {\n",
              "      if (!google.colab.kernel.accessAllowed) {\n",
              "        return;\n",
              "      }\n",
              "      const div = document.createElement('div');\n",
              "      const label = document.createElement('label');\n",
              "      label.textContent = `Downloading \"${filename}\": `;\n",
              "      div.appendChild(label);\n",
              "      const progress = document.createElement('progress');\n",
              "      progress.max = size;\n",
              "      div.appendChild(progress);\n",
              "      document.body.appendChild(div);\n",
              "\n",
              "      const buffers = [];\n",
              "      let downloaded = 0;\n",
              "\n",
              "      const channel = await google.colab.kernel.comms.open(id);\n",
              "      // Send a message to notify the kernel that we're ready.\n",
              "      channel.send({})\n",
              "\n",
              "      for await (const message of channel.messages) {\n",
              "        // Send a message to notify the kernel that we're ready.\n",
              "        channel.send({})\n",
              "        if (message.buffers) {\n",
              "          for (const buffer of message.buffers) {\n",
              "            buffers.push(buffer);\n",
              "            downloaded += buffer.byteLength;\n",
              "            progress.value = downloaded;\n",
              "          }\n",
              "        }\n",
              "      }\n",
              "      const blob = new Blob(buffers, {type: 'application/binary'});\n",
              "      const a = document.createElement('a');\n",
              "      a.href = window.URL.createObjectURL(blob);\n",
              "      a.download = filename;\n",
              "      div.appendChild(a);\n",
              "      a.click();\n",
              "      div.remove();\n",
              "    }\n",
              "  "
            ]
          },
          "metadata": {}
        },
        {
          "output_type": "display_data",
          "data": {
            "text/plain": [
              "<IPython.core.display.Javascript object>"
            ],
            "application/javascript": [
              "download(\"download_59e34cbf-0813-40f8-a70a-a43f351c407a\", \"1grams.csv\", 8607)"
            ]
          },
          "metadata": {}
        },
        {
          "output_type": "display_data",
          "data": {
            "text/plain": [
              "<IPython.core.display.Javascript object>"
            ],
            "application/javascript": [
              "\n",
              "    async function download(id, filename, size) {\n",
              "      if (!google.colab.kernel.accessAllowed) {\n",
              "        return;\n",
              "      }\n",
              "      const div = document.createElement('div');\n",
              "      const label = document.createElement('label');\n",
              "      label.textContent = `Downloading \"${filename}\": `;\n",
              "      div.appendChild(label);\n",
              "      const progress = document.createElement('progress');\n",
              "      progress.max = size;\n",
              "      div.appendChild(progress);\n",
              "      document.body.appendChild(div);\n",
              "\n",
              "      const buffers = [];\n",
              "      let downloaded = 0;\n",
              "\n",
              "      const channel = await google.colab.kernel.comms.open(id);\n",
              "      // Send a message to notify the kernel that we're ready.\n",
              "      channel.send({})\n",
              "\n",
              "      for await (const message of channel.messages) {\n",
              "        // Send a message to notify the kernel that we're ready.\n",
              "        channel.send({})\n",
              "        if (message.buffers) {\n",
              "          for (const buffer of message.buffers) {\n",
              "            buffers.push(buffer);\n",
              "            downloaded += buffer.byteLength;\n",
              "            progress.value = downloaded;\n",
              "          }\n",
              "        }\n",
              "      }\n",
              "      const blob = new Blob(buffers, {type: 'application/binary'});\n",
              "      const a = document.createElement('a');\n",
              "      a.href = window.URL.createObjectURL(blob);\n",
              "      a.download = filename;\n",
              "      div.appendChild(a);\n",
              "      a.click();\n",
              "      div.remove();\n",
              "    }\n",
              "  "
            ]
          },
          "metadata": {}
        },
        {
          "output_type": "display_data",
          "data": {
            "text/plain": [
              "<IPython.core.display.Javascript object>"
            ],
            "application/javascript": [
              "download(\"download_841b2cdb-2523-4665-9bf8-750e9e0b969b\", \"2grams.csv\", 15792)"
            ]
          },
          "metadata": {}
        }
      ]
    }
  ]
}