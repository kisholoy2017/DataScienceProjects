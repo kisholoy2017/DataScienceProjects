{
 "cells": [
  {
   "cell_type": "code",
   "execution_count": 7,
   "id": "1d63f85a",
   "metadata": {},
   "outputs": [],
   "source": [
    "import advertools as adv"
   ]
  },
  {
   "cell_type": "code",
   "execution_count": 8,
   "id": "a145e16e",
   "metadata": {},
   "outputs": [],
   "source": [
    "import pandas as pd\n",
    "pd.options.display.max_columns = None\n",
    "import plotly.express as px"
   ]
  },
  {
   "cell_type": "code",
   "execution_count": 59,
   "id": "e8c7b19f",
   "metadata": {},
   "outputs": [
    {
     "name": "stderr",
     "output_type": "stream",
     "text": [
      "2023-01-06 00:20:37,624 | INFO | sitemaps.py:536 | sitemap_to_df | Getting https://www.oxedent.com/page-sitemap.xml\n",
      "2023-01-06 00:20:37,694 | INFO | sitemaps.py:536 | sitemap_to_df | Getting https://www.oxedent.com/post-sitemap.xml\n",
      "2023-01-06 00:20:37,712 | INFO | sitemaps.py:536 | sitemap_to_df | Getting https://www.oxedent.com/team-sitemap.xml\n",
      "2023-01-06 00:20:37,801 | INFO | sitemaps.py:536 | sitemap_to_df | Getting https://www.oxedent.com/portfolio-sitemap.xml\n",
      "2023-01-06 00:20:38,364 | INFO | sitemaps.py:536 | sitemap_to_df | Getting https://www.oxedent.com/case-studies-sitemap.xml\n",
      "2023-01-06 00:20:38,387 | INFO | sitemaps.py:536 | sitemap_to_df | Getting https://www.oxedent.com/category-sitemap.xml\n",
      "2023-01-06 00:20:38,411 | INFO | sitemaps.py:536 | sitemap_to_df | Getting https://www.oxedent.com/web-story-sitemap.xml\n",
      "2023-01-06 00:20:38,431 | INFO | sitemaps.py:536 | sitemap_to_df | Getting https://www.oxedent.com/testimonial-sitemap.xml\n",
      "2023-01-06 00:20:44,626 | INFO | sitemaps.py:536 | sitemap_to_df | Getting https://www.oxedent.com/case-studies_tags-sitemap.xml\n",
      "2023-01-06 00:20:44,763 | INFO | sitemaps.py:536 | sitemap_to_df | Getting https://www.oxedent.com/post_tag-sitemap.xml\n",
      "2023-01-06 00:20:45,175 | INFO | sitemaps.py:536 | sitemap_to_df | Getting https://www.oxedent.com/case-studies_cat-sitemap.xml\n",
      "2023-01-06 00:20:45,191 | INFO | sitemaps.py:536 | sitemap_to_df | Getting https://www.oxedent.com/portfolio_cat-sitemap.xml\n",
      "2023-01-06 00:20:45,434 | INFO | sitemaps.py:536 | sitemap_to_df | Getting https://www.oxedent.com/local-sitemap.xml\n"
     ]
    },
    {
     "name": "stdout",
     "output_type": "stream",
     "text": [
      "(777, 7)\n"
     ]
    },
    {
     "data": {
      "text/html": [
       "<div>\n",
       "<style scoped>\n",
       "    .dataframe tbody tr th:only-of-type {\n",
       "        vertical-align: middle;\n",
       "    }\n",
       "\n",
       "    .dataframe tbody tr th {\n",
       "        vertical-align: top;\n",
       "    }\n",
       "\n",
       "    .dataframe thead th {\n",
       "        text-align: right;\n",
       "    }\n",
       "</style>\n",
       "<table border=\"1\" class=\"dataframe\">\n",
       "  <thead>\n",
       "    <tr style=\"text-align: right;\">\n",
       "      <th></th>\n",
       "      <th>loc</th>\n",
       "      <th>lastmod</th>\n",
       "      <th>image</th>\n",
       "      <th>image_loc</th>\n",
       "      <th>sitemap</th>\n",
       "      <th>sitemap_size_mb</th>\n",
       "      <th>download_date</th>\n",
       "    </tr>\n",
       "  </thead>\n",
       "  <tbody>\n",
       "    <tr>\n",
       "      <th>0</th>\n",
       "      <td>https://www.oxedent.com/</td>\n",
       "      <td>2022-12-12 11:34:40+00:00</td>\n",
       "      <td>\\n\\t\\t\\t</td>\n",
       "      <td>https://www.oxedent.com/wp-content/uploads/202...</td>\n",
       "      <td>https://www.oxedent.com/page-sitemap.xml</td>\n",
       "      <td>0.011489</td>\n",
       "      <td>2023-01-05 18:50:37.647668+00:00</td>\n",
       "    </tr>\n",
       "    <tr>\n",
       "      <th>1</th>\n",
       "      <td>https://www.oxedent.com/about-us/</td>\n",
       "      <td>2023-01-02 08:51:47+00:00</td>\n",
       "      <td>NaN</td>\n",
       "      <td>NaN</td>\n",
       "      <td>https://www.oxedent.com/page-sitemap.xml</td>\n",
       "      <td>0.011489</td>\n",
       "      <td>2023-01-05 18:50:37.647668+00:00</td>\n",
       "    </tr>\n",
       "    <tr>\n",
       "      <th>2</th>\n",
       "      <td>https://www.oxedent.com/career/</td>\n",
       "      <td>2022-12-26 06:13:38+00:00</td>\n",
       "      <td>NaN</td>\n",
       "      <td>NaN</td>\n",
       "      <td>https://www.oxedent.com/page-sitemap.xml</td>\n",
       "      <td>0.011489</td>\n",
       "      <td>2023-01-05 18:50:37.647668+00:00</td>\n",
       "    </tr>\n",
       "    <tr>\n",
       "      <th>3</th>\n",
       "      <td>https://www.oxedent.com/15851-2/</td>\n",
       "      <td>2022-12-21 06:02:35+00:00</td>\n",
       "      <td>NaN</td>\n",
       "      <td>NaN</td>\n",
       "      <td>https://www.oxedent.com/page-sitemap.xml</td>\n",
       "      <td>0.011489</td>\n",
       "      <td>2023-01-05 18:50:37.647668+00:00</td>\n",
       "    </tr>\n",
       "    <tr>\n",
       "      <th>4</th>\n",
       "      <td>https://www.oxedent.com/contact-us/</td>\n",
       "      <td>2022-11-16 09:05:51+00:00</td>\n",
       "      <td>NaN</td>\n",
       "      <td>NaN</td>\n",
       "      <td>https://www.oxedent.com/page-sitemap.xml</td>\n",
       "      <td>0.011489</td>\n",
       "      <td>2023-01-05 18:50:37.647668+00:00</td>\n",
       "    </tr>\n",
       "  </tbody>\n",
       "</table>\n",
       "</div>"
      ],
      "text/plain": [
       "                                   loc                   lastmod     image  \\\n",
       "0             https://www.oxedent.com/ 2022-12-12 11:34:40+00:00  \\n\\t\\t\\t   \n",
       "1    https://www.oxedent.com/about-us/ 2023-01-02 08:51:47+00:00       NaN   \n",
       "2      https://www.oxedent.com/career/ 2022-12-26 06:13:38+00:00       NaN   \n",
       "3     https://www.oxedent.com/15851-2/ 2022-12-21 06:02:35+00:00       NaN   \n",
       "4  https://www.oxedent.com/contact-us/ 2022-11-16 09:05:51+00:00       NaN   \n",
       "\n",
       "                                           image_loc  \\\n",
       "0  https://www.oxedent.com/wp-content/uploads/202...   \n",
       "1                                                NaN   \n",
       "2                                                NaN   \n",
       "3                                                NaN   \n",
       "4                                                NaN   \n",
       "\n",
       "                                    sitemap  sitemap_size_mb  \\\n",
       "0  https://www.oxedent.com/page-sitemap.xml         0.011489   \n",
       "1  https://www.oxedent.com/page-sitemap.xml         0.011489   \n",
       "2  https://www.oxedent.com/page-sitemap.xml         0.011489   \n",
       "3  https://www.oxedent.com/page-sitemap.xml         0.011489   \n",
       "4  https://www.oxedent.com/page-sitemap.xml         0.011489   \n",
       "\n",
       "                     download_date  \n",
       "0 2023-01-05 18:50:37.647668+00:00  \n",
       "1 2023-01-05 18:50:37.647668+00:00  \n",
       "2 2023-01-05 18:50:37.647668+00:00  \n",
       "3 2023-01-05 18:50:37.647668+00:00  \n",
       "4 2023-01-05 18:50:37.647668+00:00  "
      ]
     },
     "execution_count": 59,
     "metadata": {},
     "output_type": "execute_result"
    }
   ],
   "source": [
    "sitemap = adv.sitemap_to_df('https://www.oxedent.com/robots.txt')\n",
    "print(sitemap.shape)\n",
    "sitemap.head()"
   ]
  },
  {
   "cell_type": "code",
   "execution_count": 60,
   "id": "332f6ed0",
   "metadata": {},
   "outputs": [
    {
     "data": {
      "text/plain": [
       "False"
      ]
     },
     "execution_count": 60,
     "metadata": {},
     "output_type": "execute_result"
    }
   ],
   "source": [
    "'errors' in sitemap"
   ]
  },
  {
   "cell_type": "code",
   "execution_count": null,
   "id": "db4b7d56",
   "metadata": {},
   "outputs": [],
   "source": []
  },
  {
   "cell_type": "code",
   "execution_count": 63,
   "id": "75759b93",
   "metadata": {},
   "outputs": [
    {
     "data": {
      "text/html": [
       "<div>\n",
       "<style scoped>\n",
       "    .dataframe tbody tr th:only-of-type {\n",
       "        vertical-align: middle;\n",
       "    }\n",
       "\n",
       "    .dataframe tbody tr th {\n",
       "        vertical-align: top;\n",
       "    }\n",
       "\n",
       "    .dataframe thead th {\n",
       "        text-align: right;\n",
       "    }\n",
       "</style>\n",
       "<table border=\"1\" class=\"dataframe\">\n",
       "  <thead>\n",
       "    <tr style=\"text-align: right;\">\n",
       "      <th></th>\n",
       "      <th>url</th>\n",
       "      <th>scheme</th>\n",
       "      <th>netloc</th>\n",
       "      <th>path</th>\n",
       "      <th>query</th>\n",
       "      <th>fragment</th>\n",
       "      <th>dir_1</th>\n",
       "      <th>dir_2</th>\n",
       "      <th>dir_3</th>\n",
       "      <th>last_dir</th>\n",
       "    </tr>\n",
       "  </thead>\n",
       "  <tbody>\n",
       "    <tr>\n",
       "      <th>0</th>\n",
       "      <td>https://www.oxedent.com/</td>\n",
       "      <td>https</td>\n",
       "      <td>www.oxedent.com</td>\n",
       "      <td>/</td>\n",
       "      <td>NaN</td>\n",
       "      <td>NaN</td>\n",
       "      <td>NaN</td>\n",
       "      <td>NaN</td>\n",
       "      <td>NaN</td>\n",
       "      <td>NaN</td>\n",
       "    </tr>\n",
       "    <tr>\n",
       "      <th>1</th>\n",
       "      <td>https://www.oxedent.com/about-us/</td>\n",
       "      <td>https</td>\n",
       "      <td>www.oxedent.com</td>\n",
       "      <td>/about-us/</td>\n",
       "      <td>NaN</td>\n",
       "      <td>NaN</td>\n",
       "      <td>about-us</td>\n",
       "      <td>NaN</td>\n",
       "      <td>NaN</td>\n",
       "      <td>about-us</td>\n",
       "    </tr>\n",
       "    <tr>\n",
       "      <th>2</th>\n",
       "      <td>https://www.oxedent.com/career/</td>\n",
       "      <td>https</td>\n",
       "      <td>www.oxedent.com</td>\n",
       "      <td>/career/</td>\n",
       "      <td>NaN</td>\n",
       "      <td>NaN</td>\n",
       "      <td>career</td>\n",
       "      <td>NaN</td>\n",
       "      <td>NaN</td>\n",
       "      <td>career</td>\n",
       "    </tr>\n",
       "    <tr>\n",
       "      <th>3</th>\n",
       "      <td>https://www.oxedent.com/15851-2/</td>\n",
       "      <td>https</td>\n",
       "      <td>www.oxedent.com</td>\n",
       "      <td>/15851-2/</td>\n",
       "      <td>NaN</td>\n",
       "      <td>NaN</td>\n",
       "      <td>15851-2</td>\n",
       "      <td>NaN</td>\n",
       "      <td>NaN</td>\n",
       "      <td>15851-2</td>\n",
       "    </tr>\n",
       "    <tr>\n",
       "      <th>4</th>\n",
       "      <td>https://www.oxedent.com/contact-us/</td>\n",
       "      <td>https</td>\n",
       "      <td>www.oxedent.com</td>\n",
       "      <td>/contact-us/</td>\n",
       "      <td>NaN</td>\n",
       "      <td>NaN</td>\n",
       "      <td>contact-us</td>\n",
       "      <td>NaN</td>\n",
       "      <td>NaN</td>\n",
       "      <td>contact-us</td>\n",
       "    </tr>\n",
       "  </tbody>\n",
       "</table>\n",
       "</div>"
      ],
      "text/plain": [
       "                                   url scheme           netloc          path  \\\n",
       "0             https://www.oxedent.com/  https  www.oxedent.com             /   \n",
       "1    https://www.oxedent.com/about-us/  https  www.oxedent.com    /about-us/   \n",
       "2      https://www.oxedent.com/career/  https  www.oxedent.com      /career/   \n",
       "3     https://www.oxedent.com/15851-2/  https  www.oxedent.com     /15851-2/   \n",
       "4  https://www.oxedent.com/contact-us/  https  www.oxedent.com  /contact-us/   \n",
       "\n",
       "   query  fragment       dir_1 dir_2 dir_3    last_dir  \n",
       "0    NaN       NaN         NaN   NaN   NaN         NaN  \n",
       "1    NaN       NaN    about-us   NaN   NaN    about-us  \n",
       "2    NaN       NaN      career   NaN   NaN      career  \n",
       "3    NaN       NaN     15851-2   NaN   NaN     15851-2  \n",
       "4    NaN       NaN  contact-us   NaN   NaN  contact-us  "
      ]
     },
     "execution_count": 63,
     "metadata": {},
     "output_type": "execute_result"
    }
   ],
   "source": [
    "urldf = adv.url_to_df(sitemap['loc'].dropna())\n",
    "urldf.head()"
   ]
  },
  {
   "cell_type": "code",
   "execution_count": 64,
   "id": "7b98bb2c",
   "metadata": {},
   "outputs": [
    {
     "data": {
      "text/plain": [
       "Index(['url', 'scheme', 'netloc', 'path', 'query', 'fragment', 'dir_1',\n",
       "       'dir_2', 'dir_3', 'last_dir'],\n",
       "      dtype='object')"
      ]
     },
     "execution_count": 64,
     "metadata": {},
     "output_type": "execute_result"
    }
   ],
   "source": [
    "urldf.columns"
   ]
  },
  {
   "cell_type": "code",
   "execution_count": 65,
   "id": "b92d1ed9",
   "metadata": {},
   "outputs": [
    {
     "data": {
      "text/plain": [
       "https    777\n",
       "Name: scheme, dtype: int64"
      ]
     },
     "execution_count": 65,
     "metadata": {},
     "output_type": "execute_result"
    }
   ],
   "source": [
    "urldf['scheme'].value_counts()"
   ]
  },
  {
   "cell_type": "code",
   "execution_count": 66,
   "id": "ec16cef8",
   "metadata": {},
   "outputs": [
    {
     "data": {
      "text/plain": [
       "www.oxedent.com    777\n",
       "Name: netloc, dtype: int64"
      ]
     },
     "execution_count": 66,
     "metadata": {},
     "output_type": "execute_result"
    }
   ],
   "source": [
    "urldf['netloc'].value_counts().head(20)"
   ]
  },
  {
   "cell_type": "code",
   "execution_count": 67,
   "id": "d385d179",
   "metadata": {},
   "outputs": [
    {
     "data": {
      "text/html": [
       "<style type=\"text/css\">\n",
       "</style>\n",
       "<table id=\"T_e5e2b\">\n",
       "  <thead>\n",
       "    <tr>\n",
       "      <th class=\"blank level0\" >&nbsp;</th>\n",
       "      <th id=\"T_e5e2b_level0_col0\" class=\"col_heading level0 col0\" >URL element used %</th>\n",
       "    </tr>\n",
       "  </thead>\n",
       "  <tbody>\n",
       "    <tr>\n",
       "      <th id=\"T_e5e2b_level0_row0\" class=\"row_heading level0 row0\" >url</th>\n",
       "      <td id=\"T_e5e2b_row0_col0\" class=\"data row0 col0\" >100.0%</td>\n",
       "    </tr>\n",
       "    <tr>\n",
       "      <th id=\"T_e5e2b_level0_row1\" class=\"row_heading level0 row1\" >scheme</th>\n",
       "      <td id=\"T_e5e2b_row1_col0\" class=\"data row1 col0\" >100.0%</td>\n",
       "    </tr>\n",
       "    <tr>\n",
       "      <th id=\"T_e5e2b_level0_row2\" class=\"row_heading level0 row2\" >netloc</th>\n",
       "      <td id=\"T_e5e2b_row2_col0\" class=\"data row2 col0\" >100.0%</td>\n",
       "    </tr>\n",
       "    <tr>\n",
       "      <th id=\"T_e5e2b_level0_row3\" class=\"row_heading level0 row3\" >path</th>\n",
       "      <td id=\"T_e5e2b_row3_col0\" class=\"data row3 col0\" >100.0%</td>\n",
       "    </tr>\n",
       "    <tr>\n",
       "      <th id=\"T_e5e2b_level0_row4\" class=\"row_heading level0 row4\" >query</th>\n",
       "      <td id=\"T_e5e2b_row4_col0\" class=\"data row4 col0\" >0.0%</td>\n",
       "    </tr>\n",
       "    <tr>\n",
       "      <th id=\"T_e5e2b_level0_row5\" class=\"row_heading level0 row5\" >fragment</th>\n",
       "      <td id=\"T_e5e2b_row5_col0\" class=\"data row5 col0\" >0.0%</td>\n",
       "    </tr>\n",
       "    <tr>\n",
       "      <th id=\"T_e5e2b_level0_row6\" class=\"row_heading level0 row6\" >dir_1</th>\n",
       "      <td id=\"T_e5e2b_row6_col0\" class=\"data row6 col0\" >99.9%</td>\n",
       "    </tr>\n",
       "    <tr>\n",
       "      <th id=\"T_e5e2b_level0_row7\" class=\"row_heading level0 row7\" >dir_2</th>\n",
       "      <td id=\"T_e5e2b_row7_col0\" class=\"data row7 col0\" >86.7%</td>\n",
       "    </tr>\n",
       "    <tr>\n",
       "      <th id=\"T_e5e2b_level0_row8\" class=\"row_heading level0 row8\" >dir_3</th>\n",
       "      <td id=\"T_e5e2b_row8_col0\" class=\"data row8 col0\" >3.7%</td>\n",
       "    </tr>\n",
       "    <tr>\n",
       "      <th id=\"T_e5e2b_level0_row9\" class=\"row_heading level0 row9\" >last_dir</th>\n",
       "      <td id=\"T_e5e2b_row9_col0\" class=\"data row9 col0\" >99.9%</td>\n",
       "    </tr>\n",
       "  </tbody>\n",
       "</table>\n"
      ],
      "text/plain": [
       "<pandas.io.formats.style.Styler at 0x27c410773a0>"
      ]
     },
     "execution_count": 67,
     "metadata": {},
     "output_type": "execute_result"
    }
   ],
   "source": [
    "urldf.notna().mean().to_frame().rename(columns={0: 'URL element used %'}).style.format('{:.1%}')"
   ]
  },
  {
   "cell_type": "code",
   "execution_count": 68,
   "id": "f58e6750",
   "metadata": {},
   "outputs": [
    {
     "data": {
      "text/plain": [
       "tag                                                         496\n",
       "case-study                                                   87\n",
       "case-studies                                                 20\n",
       "testimonials                                                 18\n",
       "team                                                         17\n",
       "projects                                                     16\n",
       "category                                                     14\n",
       "web-stories                                                  11\n",
       "setting-up-facebook-sales-channel-for-your-shopify-store      1\n",
       "remove-powered-by-shopify-on-shopify                          1\n",
       "google-adwords-for-e-commerce-websites                        1\n",
       "white-label-ppc-agencies                                      1\n",
       "shopify-all-details-you-should-know                           1\n",
       "about-us                                                      1\n",
       "ai-writing-generator-ai-text-generator                        1\n",
       "setting-up-google-sales-channel-for-your-shopify-store        1\n",
       "set-up-google-analytics-4-ga4-on-shopify                      1\n",
       "ppc-management-pricing                                        1\n",
       "pay-per-click-companies                                       1\n",
       "google-ad-tools-ppc-tools                                     1\n",
       "Name: dir_1, dtype: int64"
      ]
     },
     "execution_count": 68,
     "metadata": {},
     "output_type": "execute_result"
    }
   ],
   "source": [
    "urldf['dir_1'].value_counts().head(20)"
   ]
  },
  {
   "cell_type": "code",
   "execution_count": 70,
   "id": "335b39ab",
   "metadata": {},
   "outputs": [
    {
     "data": {
      "text/plain": [
       "87"
      ]
     },
     "execution_count": 70,
     "metadata": {},
     "output_type": "execute_result"
    }
   ],
   "source": [
    "urldf['dir_1'].value_counts()['case-study']"
   ]
  },
  {
   "cell_type": "code",
   "execution_count": 71,
   "id": "29ce3d9c",
   "metadata": {},
   "outputs": [
    {
     "data": {
      "text/html": [
       "<style type=\"text/css\">\n",
       "</style>\n",
       "<table id=\"T_1d1b2\">\n",
       "  <thead>\n",
       "    <tr>\n",
       "      <th class=\"blank level0\" >&nbsp;</th>\n",
       "      <th id=\"T_1d1b2_level0_col0\" class=\"col_heading level0 col0\" >URL element used %</th>\n",
       "    </tr>\n",
       "  </thead>\n",
       "  <tbody>\n",
       "    <tr>\n",
       "      <th id=\"T_1d1b2_level0_row0\" class=\"row_heading level0 row0\" >url</th>\n",
       "      <td id=\"T_1d1b2_row0_col0\" class=\"data row0 col0\" >100.00%</td>\n",
       "    </tr>\n",
       "    <tr>\n",
       "      <th id=\"T_1d1b2_level0_row1\" class=\"row_heading level0 row1\" >scheme</th>\n",
       "      <td id=\"T_1d1b2_row1_col0\" class=\"data row1 col0\" >100.00%</td>\n",
       "    </tr>\n",
       "    <tr>\n",
       "      <th id=\"T_1d1b2_level0_row2\" class=\"row_heading level0 row2\" >netloc</th>\n",
       "      <td id=\"T_1d1b2_row2_col0\" class=\"data row2 col0\" >100.00%</td>\n",
       "    </tr>\n",
       "    <tr>\n",
       "      <th id=\"T_1d1b2_level0_row3\" class=\"row_heading level0 row3\" >path</th>\n",
       "      <td id=\"T_1d1b2_row3_col0\" class=\"data row3 col0\" >100.00%</td>\n",
       "    </tr>\n",
       "    <tr>\n",
       "      <th id=\"T_1d1b2_level0_row4\" class=\"row_heading level0 row4\" >query</th>\n",
       "      <td id=\"T_1d1b2_row4_col0\" class=\"data row4 col0\" >0.00%</td>\n",
       "    </tr>\n",
       "    <tr>\n",
       "      <th id=\"T_1d1b2_level0_row5\" class=\"row_heading level0 row5\" >fragment</th>\n",
       "      <td id=\"T_1d1b2_row5_col0\" class=\"data row5 col0\" >0.00%</td>\n",
       "    </tr>\n",
       "    <tr>\n",
       "      <th id=\"T_1d1b2_level0_row6\" class=\"row_heading level0 row6\" >dir_1</th>\n",
       "      <td id=\"T_1d1b2_row6_col0\" class=\"data row6 col0\" >99.87%</td>\n",
       "    </tr>\n",
       "    <tr>\n",
       "      <th id=\"T_1d1b2_level0_row7\" class=\"row_heading level0 row7\" >dir_2</th>\n",
       "      <td id=\"T_1d1b2_row7_col0\" class=\"data row7 col0\" >86.74%</td>\n",
       "    </tr>\n",
       "    <tr>\n",
       "      <th id=\"T_1d1b2_level0_row8\" class=\"row_heading level0 row8\" >dir_3</th>\n",
       "      <td id=\"T_1d1b2_row8_col0\" class=\"data row8 col0\" >3.73%</td>\n",
       "    </tr>\n",
       "    <tr>\n",
       "      <th id=\"T_1d1b2_level0_row9\" class=\"row_heading level0 row9\" >last_dir</th>\n",
       "      <td id=\"T_1d1b2_row9_col0\" class=\"data row9 col0\" >99.87%</td>\n",
       "    </tr>\n",
       "  </tbody>\n",
       "</table>\n"
      ],
      "text/plain": [
       "<pandas.io.formats.style.Styler at 0x27c47a2b460>"
      ]
     },
     "execution_count": 71,
     "metadata": {},
     "output_type": "execute_result"
    }
   ],
   "source": [
    "urldf.notna().mean().to_frame().rename(columns={0: 'URL element used %'}).style.format('{:.2%}')"
   ]
  },
  {
   "cell_type": "code",
   "execution_count": 72,
   "id": "d25b7902",
   "metadata": {},
   "outputs": [
    {
     "data": {
      "text/plain": [
       "cat                                    26\n",
       "training                                2\n",
       "tags                                    2\n",
       "oxedent                                 2\n",
       "google-ads                              2\n",
       "ppc                                     2\n",
       "google-shopping                         2\n",
       "cro                                     2\n",
       "shopify                                 2\n",
       "ai-writing-prompt-generator             1\n",
       "free-ai-writing-generator               1\n",
       "ai-generator-writing                    1\n",
       "ai-writing-generator-tools              1\n",
       "ai-writing-generator-free-online        1\n",
       "writing-generator-ai                    1\n",
       "creative-writing-story-generator-ai     1\n",
       "ai-fiction-writing-generator            1\n",
       "best-ai-writing-generator               1\n",
       "creative-writing-ai-generator           1\n",
       "ai-creative-writing-generator           1\n",
       "Name: dir_2, dtype: int64"
      ]
     },
     "execution_count": 72,
     "metadata": {},
     "output_type": "execute_result"
    }
   ],
   "source": [
    "urldf['dir_2'].value_counts().head(20)"
   ]
  },
  {
   "cell_type": "code",
   "execution_count": 73,
   "id": "68cff063",
   "metadata": {},
   "outputs": [
    {
     "data": {
      "text/html": [
       "<style type=\"text/css\">\n",
       "</style>\n",
       "<table id=\"T_0c2cb\">\n",
       "  <thead>\n",
       "    <tr>\n",
       "      <th class=\"blank level0\" >&nbsp;</th>\n",
       "      <th id=\"T_0c2cb_level0_col0\" class=\"col_heading level0 col0\" >word</th>\n",
       "      <th id=\"T_0c2cb_level0_col1\" class=\"col_heading level0 col1\" >abs_freq</th>\n",
       "    </tr>\n",
       "  </thead>\n",
       "  <tbody>\n",
       "    <tr>\n",
       "      <th id=\"T_0c2cb_level0_row0\" class=\"row_heading level0 row0\" >0</th>\n",
       "      <td id=\"T_0c2cb_row0_col0\" class=\"data row0 col0\" >tag</td>\n",
       "      <td id=\"T_0c2cb_row0_col1\" class=\"data row0 col1\" >496</td>\n",
       "    </tr>\n",
       "    <tr>\n",
       "      <th id=\"T_0c2cb_level0_row1\" class=\"row_heading level0 row1\" >1</th>\n",
       "      <td id=\"T_0c2cb_row1_col0\" class=\"data row1 col0\" >case</td>\n",
       "      <td id=\"T_0c2cb_row1_col1\" class=\"data row1 col1\" >107</td>\n",
       "    </tr>\n",
       "    <tr>\n",
       "      <th id=\"T_0c2cb_level0_row2\" class=\"row_heading level0 row2\" >2</th>\n",
       "      <td id=\"T_0c2cb_row2_col0\" class=\"data row2 col0\" >study</td>\n",
       "      <td id=\"T_0c2cb_row2_col1\" class=\"data row2 col1\" >87</td>\n",
       "    </tr>\n",
       "    <tr>\n",
       "      <th id=\"T_0c2cb_level0_row3\" class=\"row_heading level0 row3\" >3</th>\n",
       "      <td id=\"T_0c2cb_row3_col0\" class=\"data row3 col0\" >google</td>\n",
       "      <td id=\"T_0c2cb_row3_col1\" class=\"data row3 col1\" >24</td>\n",
       "    </tr>\n",
       "    <tr>\n",
       "      <th id=\"T_0c2cb_level0_row4\" class=\"row_heading level0 row4\" >4</th>\n",
       "      <td id=\"T_0c2cb_row4_col0\" class=\"data row4 col0\" >studies</td>\n",
       "      <td id=\"T_0c2cb_row4_col1\" class=\"data row4 col1\" >20</td>\n",
       "    </tr>\n",
       "    <tr>\n",
       "      <th id=\"T_0c2cb_level0_row5\" class=\"row_heading level0 row5\" >5</th>\n",
       "      <td id=\"T_0c2cb_row5_col0\" class=\"data row5 col0\" >team</td>\n",
       "      <td id=\"T_0c2cb_row5_col1\" class=\"data row5 col1\" >18</td>\n",
       "    </tr>\n",
       "    <tr>\n",
       "      <th id=\"T_0c2cb_level0_row6\" class=\"row_heading level0 row6\" >6</th>\n",
       "      <td id=\"T_0c2cb_row6_col0\" class=\"data row6 col0\" >testimonials</td>\n",
       "      <td id=\"T_0c2cb_row6_col1\" class=\"data row6 col1\" >18</td>\n",
       "    </tr>\n",
       "    <tr>\n",
       "      <th id=\"T_0c2cb_level0_row7\" class=\"row_heading level0 row7\" >7</th>\n",
       "      <td id=\"T_0c2cb_row7_col0\" class=\"data row7 col0\" >projects</td>\n",
       "      <td id=\"T_0c2cb_row7_col1\" class=\"data row7 col1\" >16</td>\n",
       "    </tr>\n",
       "    <tr>\n",
       "      <th id=\"T_0c2cb_level0_row8\" class=\"row_heading level0 row8\" >8</th>\n",
       "      <td id=\"T_0c2cb_row8_col0\" class=\"data row8 col0\" >category</td>\n",
       "      <td id=\"T_0c2cb_row8_col1\" class=\"data row8 col1\" >14</td>\n",
       "    </tr>\n",
       "    <tr>\n",
       "      <th id=\"T_0c2cb_level0_row9\" class=\"row_heading level0 row9\" >9</th>\n",
       "      <td id=\"T_0c2cb_row9_col0\" class=\"data row9 col0\" >ads</td>\n",
       "      <td id=\"T_0c2cb_row9_col1\" class=\"data row9 col1\" >14</td>\n",
       "    </tr>\n",
       "    <tr>\n",
       "      <th id=\"T_0c2cb_level0_row10\" class=\"row_heading level0 row10\" >10</th>\n",
       "      <td id=\"T_0c2cb_row10_col0\" class=\"data row10 col0\" >ppc</td>\n",
       "      <td id=\"T_0c2cb_row10_col1\" class=\"data row10 col1\" >14</td>\n",
       "    </tr>\n",
       "    <tr>\n",
       "      <th id=\"T_0c2cb_level0_row11\" class=\"row_heading level0 row11\" >11</th>\n",
       "      <td id=\"T_0c2cb_row11_col0\" class=\"data row11 col0\" >agency</td>\n",
       "      <td id=\"T_0c2cb_row11_col1\" class=\"data row11 col1\" >13</td>\n",
       "    </tr>\n",
       "    <tr>\n",
       "      <th id=\"T_0c2cb_level0_row12\" class=\"row_heading level0 row12\" >12</th>\n",
       "      <td id=\"T_0c2cb_row12_col0\" class=\"data row12 col0\" >web</td>\n",
       "      <td id=\"T_0c2cb_row12_col1\" class=\"data row12 col1\" >12</td>\n",
       "    </tr>\n",
       "    <tr>\n",
       "      <th id=\"T_0c2cb_level0_row13\" class=\"row_heading level0 row13\" >13</th>\n",
       "      <td id=\"T_0c2cb_row13_col0\" class=\"data row13 col0\" >stories</td>\n",
       "      <td id=\"T_0c2cb_row13_col1\" class=\"data row13 col1\" >11</td>\n",
       "    </tr>\n",
       "    <tr>\n",
       "      <th id=\"T_0c2cb_level0_row14\" class=\"row_heading level0 row14\" >14</th>\n",
       "      <td id=\"T_0c2cb_row14_col0\" class=\"data row14 col0\" >shopify</td>\n",
       "      <td id=\"T_0c2cb_row14_col1\" class=\"data row14 col1\" >11</td>\n",
       "    </tr>\n",
       "  </tbody>\n",
       "</table>\n"
      ],
      "text/plain": [
       "<pandas.io.formats.style.Styler at 0x27c40ca8dc0>"
      ]
     },
     "execution_count": 73,
     "metadata": {},
     "output_type": "execute_result"
    }
   ],
   "source": [
    "(adv.word_frequency(\n",
    "    urldf['dir_1']\n",
    "    .dropna()\n",
    "    .str.replace('-', ' '),\n",
    "    rm_words=['to', 'for', 'the', 'and', 'in', 'of', 'a', 'with', 'is'])\n",
    " .head(15)\n",
    " .style.format({'abs_freq': '{:,}'}))"
   ]
  },
  {
   "cell_type": "code",
   "execution_count": 74,
   "id": "7a765e97",
   "metadata": {},
   "outputs": [
    {
     "data": {
      "text/html": [
       "<div>\n",
       "<style scoped>\n",
       "    .dataframe tbody tr th:only-of-type {\n",
       "        vertical-align: middle;\n",
       "    }\n",
       "\n",
       "    .dataframe tbody tr th {\n",
       "        vertical-align: top;\n",
       "    }\n",
       "\n",
       "    .dataframe thead th {\n",
       "        text-align: right;\n",
       "    }\n",
       "</style>\n",
       "<table border=\"1\" class=\"dataframe\">\n",
       "  <thead>\n",
       "    <tr style=\"text-align: right;\">\n",
       "      <th></th>\n",
       "      <th>word</th>\n",
       "      <th>abs_freq</th>\n",
       "    </tr>\n",
       "  </thead>\n",
       "  <tbody>\n",
       "    <tr>\n",
       "      <th>0</th>\n",
       "      <td>case study</td>\n",
       "      <td>87</td>\n",
       "    </tr>\n",
       "    <tr>\n",
       "      <th>1</th>\n",
       "      <td>case studies</td>\n",
       "      <td>20</td>\n",
       "    </tr>\n",
       "    <tr>\n",
       "      <th>2</th>\n",
       "      <td>web stories</td>\n",
       "      <td>11</td>\n",
       "    </tr>\n",
       "    <tr>\n",
       "      <th>3</th>\n",
       "      <td>google ads</td>\n",
       "      <td>10</td>\n",
       "    </tr>\n",
       "    <tr>\n",
       "      <th>4</th>\n",
       "      <td>thank you</td>\n",
       "      <td>6</td>\n",
       "    </tr>\n",
       "    <tr>\n",
       "      <th>5</th>\n",
       "      <td>google adwords</td>\n",
       "      <td>5</td>\n",
       "    </tr>\n",
       "    <tr>\n",
       "      <th>6</th>\n",
       "      <td>for 2022</td>\n",
       "      <td>3</td>\n",
       "    </tr>\n",
       "    <tr>\n",
       "      <th>7</th>\n",
       "      <td>landing page</td>\n",
       "      <td>3</td>\n",
       "    </tr>\n",
       "    <tr>\n",
       "      <th>8</th>\n",
       "      <td>digital marketing</td>\n",
       "      <td>3</td>\n",
       "    </tr>\n",
       "    <tr>\n",
       "      <th>9</th>\n",
       "      <td>oxedent wins</td>\n",
       "      <td>3</td>\n",
       "    </tr>\n",
       "    <tr>\n",
       "      <th>10</th>\n",
       "      <td>marketing agency</td>\n",
       "      <td>3</td>\n",
       "    </tr>\n",
       "    <tr>\n",
       "      <th>11</th>\n",
       "      <td>wins the</td>\n",
       "      <td>3</td>\n",
       "    </tr>\n",
       "    <tr>\n",
       "      <th>12</th>\n",
       "      <td>the mandate</td>\n",
       "      <td>3</td>\n",
       "    </tr>\n",
       "    <tr>\n",
       "      <th>13</th>\n",
       "      <td>mandate for</td>\n",
       "      <td>3</td>\n",
       "    </tr>\n",
       "    <tr>\n",
       "      <th>14</th>\n",
       "      <td>performance marketing</td>\n",
       "      <td>3</td>\n",
       "    </tr>\n",
       "  </tbody>\n",
       "</table>\n",
       "</div>"
      ],
      "text/plain": [
       "                     word  abs_freq\n",
       "0              case study        87\n",
       "1            case studies        20\n",
       "2             web stories        11\n",
       "3              google ads        10\n",
       "4               thank you         6\n",
       "5          google adwords         5\n",
       "6                for 2022         3\n",
       "7            landing page         3\n",
       "8       digital marketing         3\n",
       "9            oxedent wins         3\n",
       "10       marketing agency         3\n",
       "11               wins the         3\n",
       "12            the mandate         3\n",
       "13            mandate for         3\n",
       "14  performance marketing         3"
      ]
     },
     "execution_count": 74,
     "metadata": {},
     "output_type": "execute_result"
    }
   ],
   "source": [
    "#Bigrams\n",
    "(adv.word_frequency(\n",
    "    urldf['dir_1']\n",
    "    .dropna()\n",
    "    .str.replace('-', ' '),\n",
    "    phrase_len=2)\n",
    " .head(15))"
   ]
  },
  {
   "cell_type": "code",
   "execution_count": 76,
   "id": "314623f3",
   "metadata": {},
   "outputs": [
    {
     "data": {
      "text/html": [
       "<style type=\"text/css\">\n",
       "#T_77356_row0_col0 {\n",
       "  width: 10em;\n",
       "  background: linear-gradient(90deg, steelblue 100.0%, transparent 100.0%);\n",
       "}\n",
       "#T_77356_row1_col0 {\n",
       "  width: 10em;\n",
       "  background: linear-gradient(90deg, steelblue 19.2%, transparent 19.2%);\n",
       "}\n",
       "#T_77356_row2_col0 {\n",
       "  width: 10em;\n",
       "  background: linear-gradient(90deg, steelblue 10.2%, transparent 10.2%);\n",
       "}\n",
       "#T_77356_row3_col0 {\n",
       "  width: 10em;\n",
       "  background: linear-gradient(90deg, steelblue 9.0%, transparent 9.0%);\n",
       "}\n",
       "#T_77356_row4_col0 {\n",
       "  width: 10em;\n",
       "  background: linear-gradient(90deg, steelblue 4.8%, transparent 4.8%);\n",
       "}\n",
       "</style>\n",
       "<table id=\"T_77356\">\n",
       "  <caption><h4>Articles per year <br><br><b>SearchEngineJournal.com</b></h4></caption>\n",
       "  <thead>\n",
       "    <tr>\n",
       "      <th class=\"blank level0\" >&nbsp;</th>\n",
       "      <th id=\"T_77356_level0_col0\" class=\"col_heading level0 col0\" >lastmod</th>\n",
       "    </tr>\n",
       "  </thead>\n",
       "  <tbody>\n",
       "    <tr>\n",
       "      <th id=\"T_77356_level0_row0\" class=\"row_heading level0 row0\" >2022</th>\n",
       "      <td id=\"T_77356_row0_col0\" class=\"data row0 col0\" >167</td>\n",
       "    </tr>\n",
       "    <tr>\n",
       "      <th id=\"T_77356_level0_row1\" class=\"row_heading level0 row1\" >2021</th>\n",
       "      <td id=\"T_77356_row1_col0\" class=\"data row1 col0\" >32</td>\n",
       "    </tr>\n",
       "    <tr>\n",
       "      <th id=\"T_77356_level0_row2\" class=\"row_heading level0 row2\" >2020</th>\n",
       "      <td id=\"T_77356_row2_col0\" class=\"data row2 col0\" >17</td>\n",
       "    </tr>\n",
       "    <tr>\n",
       "      <th id=\"T_77356_level0_row3\" class=\"row_heading level0 row3\" >2023</th>\n",
       "      <td id=\"T_77356_row3_col0\" class=\"data row3 col0\" >15</td>\n",
       "    </tr>\n",
       "    <tr>\n",
       "      <th id=\"T_77356_level0_row4\" class=\"row_heading level0 row4\" >2019</th>\n",
       "      <td id=\"T_77356_row4_col0\" class=\"data row4 col0\" >8</td>\n",
       "    </tr>\n",
       "  </tbody>\n",
       "</table>\n"
      ],
      "text/plain": [
       "<pandas.io.formats.style.Styler at 0x27c41369850>"
      ]
     },
     "execution_count": 76,
     "metadata": {},
     "output_type": "execute_result"
    }
   ],
   "source": [
    "(sitemap\n",
    " ['lastmod']\n",
    " .dropna()\n",
    " .dt.year\n",
    " .value_counts()\n",
    " .to_frame()\n",
    " .style\n",
    " .bar(color='steelblue')\n",
    " .set_caption(f'<h4>Articles per year <br><br><b>{website}</b></h4>')\n",
    " .format('{:,}'))\n"
   ]
  },
  {
   "cell_type": "code",
   "execution_count": null,
   "id": "57a1d6c4",
   "metadata": {},
   "outputs": [],
   "source": []
  },
  {
   "cell_type": "code",
   "execution_count": null,
   "id": "d33b8e85",
   "metadata": {},
   "outputs": [],
   "source": []
  }
 ],
 "metadata": {
  "kernelspec": {
   "display_name": "Python 3 (ipykernel)",
   "language": "python",
   "name": "python3"
  },
  "language_info": {
   "codemirror_mode": {
    "name": "ipython",
    "version": 3
   },
   "file_extension": ".py",
   "mimetype": "text/x-python",
   "name": "python",
   "nbconvert_exporter": "python",
   "pygments_lexer": "ipython3",
   "version": "3.9.12"
  }
 },
 "nbformat": 4,
 "nbformat_minor": 5
}
