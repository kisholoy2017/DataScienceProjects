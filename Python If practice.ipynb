{
 "cells": [
  {
   "cell_type": "code",
   "execution_count": 1,
   "id": "32571b06",
   "metadata": {},
   "outputs": [],
   "source": [
    "india = [\"mumbai\", \"banglore\", \"chennai\", \"delhi\"]\n",
    "pakistan = [\"lahore\",\"karachi\",\"islamabad\"]\n",
    "bangladesh = [\"dhaka\", \"khulna\", \"rangpur\"]"
   ]
  },
  {
   "cell_type": "code",
   "execution_count": 5,
   "id": "474922c4",
   "metadata": {},
   "outputs": [
    {
     "data": {
      "text/plain": [
       "'lahore'"
      ]
     },
     "execution_count": 5,
     "metadata": {},
     "output_type": "execute_result"
    }
   ],
   "source": [
    "city = \"lahore\"\n",
    "city"
   ]
  },
  {
   "cell_type": "code",
   "execution_count": 10,
   "id": "43cd4c41",
   "metadata": {},
   "outputs": [
    {
     "name": "stdout",
     "output_type": "stream",
     "text": [
      "lahore is in pakistan\n"
     ]
    }
   ],
   "source": [
    "if city in india:\n",
    "    print(city, \"is in India\")\n",
    "elif city in pakistan: \n",
    "    print(city, \"is in pakistan\")\n",
    "elif city in bangladesh:\n",
    "    print(city, \"is in bangladesh\")\n",
    "else: \n",
    "    print(\"city not found\")\n",
    "    "
   ]
  },
  {
   "cell_type": "code",
   "execution_count": 11,
   "id": "607c156f",
   "metadata": {},
   "outputs": [
    {
     "data": {
      "text/plain": [
       "'paris'"
      ]
     },
     "execution_count": 11,
     "metadata": {},
     "output_type": "execute_result"
    }
   ],
   "source": [
    "city2 = \"paris\"\n",
    "city2"
   ]
  },
  {
   "cell_type": "code",
   "execution_count": 12,
   "id": "44132068",
   "metadata": {},
   "outputs": [
    {
     "name": "stdout",
     "output_type": "stream",
     "text": [
      "paris not found\n"
     ]
    }
   ],
   "source": [
    "if city2 in india:\n",
    "    print(city2, \"is in India\")\n",
    "elif city2 in pakistan: \n",
    "    print(city2, \"is in pakistan\")\n",
    "elif city2 in bangladesh:\n",
    "    print(city2, \"is in bangladesh\")\n",
    "else: \n",
    "    print(city2, \"not found\")"
   ]
  },
  {
   "cell_type": "code",
   "execution_count": 41,
   "id": "4f7df357",
   "metadata": {},
   "outputs": [],
   "source": [
    "city_1 = \"chennai\"\n",
    "city_2 = \"london\""
   ]
  },
  {
   "cell_type": "code",
   "execution_count": 43,
   "id": "d876083d",
   "metadata": {},
   "outputs": [
    {
     "data": {
      "text/plain": [
       "'london'"
      ]
     },
     "execution_count": 43,
     "metadata": {},
     "output_type": "execute_result"
    }
   ],
   "source": [
    "city_2"
   ]
  },
  {
   "cell_type": "code",
   "execution_count": 44,
   "id": "fe7e2444",
   "metadata": {},
   "outputs": [
    {
     "name": "stdout",
     "output_type": "stream",
     "text": [
      "they don't belong to same country\n"
     ]
    }
   ],
   "source": [
    "if city_1 in india and city_2 in india:\n",
    "    print('they both belong to India')\n",
    "elif city_1 in pakistan and city_2 in pakistan: \n",
    "    print(\"they both belong to pakistan\")\n",
    "elif city_1 in bangladesh and city_2 in bangladesh:\n",
    "    print(\"they both belong to bangladesh\")\n",
    "else: \n",
    "    print(\"they don't belong to same country\")"
   ]
  },
  {
   "cell_type": "code",
   "execution_count": 45,
   "id": "f1b10ec2",
   "metadata": {},
   "outputs": [
    {
     "data": {
      "text/plain": [
       "False"
      ]
     },
     "execution_count": 45,
     "metadata": {},
     "output_type": "execute_result"
    }
   ],
   "source": [
    "city_1 in india and city_2 in india"
   ]
  },
  {
   "cell_type": "code",
   "execution_count": 47,
   "id": "d4ab21d3",
   "metadata": {},
   "outputs": [
    {
     "data": {
      "text/plain": [
       "True"
      ]
     },
     "execution_count": 47,
     "metadata": {},
     "output_type": "execute_result"
    }
   ],
   "source": [
    "#doesn't work\n",
    "city_2 and city_1 in india"
   ]
  },
  {
   "cell_type": "code",
   "execution_count": null,
   "id": "b7403dbc",
   "metadata": {},
   "outputs": [],
   "source": []
  }
 ],
 "metadata": {
  "kernelspec": {
   "display_name": "Python 3 (ipykernel)",
   "language": "python",
   "name": "python3"
  },
  "language_info": {
   "codemirror_mode": {
    "name": "ipython",
    "version": 3
   },
   "file_extension": ".py",
   "mimetype": "text/x-python",
   "name": "python",
   "nbconvert_exporter": "python",
   "pygments_lexer": "ipython3",
   "version": "3.9.12"
  }
 },
 "nbformat": 4,
 "nbformat_minor": 5
}
