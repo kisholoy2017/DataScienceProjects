{
 "cells": [
  {
   "cell_type": "code",
   "execution_count": 7,
   "id": "4b9f8502",
   "metadata": {},
   "outputs": [
    {
     "name": "stdout",
     "output_type": "stream",
     "text": [
      "368\n"
     ]
    }
   ],
   "source": [
    "x = [1, 4, 2, 43, 21, 43, 98, 81, 75]\n",
    "total = 0\n",
    "for item in x: \n",
    "  total = total + item\n",
    "print (total)    \n"
   ]
  },
  {
   "cell_type": "code",
   "execution_count": 11,
   "id": "3bc4f2a6",
   "metadata": {},
   "outputs": [
    {
     "name": "stdout",
     "output_type": "stream",
     "text": [
      "1\n",
      "2\n",
      "3\n",
      "4\n",
      "5\n",
      "6\n",
      "7\n",
      "8\n",
      "9\n"
     ]
    }
   ],
   "source": [
    "for i in range (1,10):\n",
    "    print (i)"
   ]
  },
  {
   "cell_type": "code",
   "execution_count": 12,
   "id": "801db48c",
   "metadata": {},
   "outputs": [
    {
     "data": {
      "text/plain": [
       "5"
      ]
     },
     "execution_count": 12,
     "metadata": {},
     "output_type": "execute_result"
    }
   ],
   "source": [
    "exp = [2340, 2500, 2100, 3100, 2980]\n",
    "len(exp)"
   ]
  },
  {
   "cell_type": "code",
   "execution_count": 13,
   "id": "d3508dfb",
   "metadata": {},
   "outputs": [
    {
     "data": {
      "text/plain": [
       "2980"
      ]
     },
     "execution_count": 13,
     "metadata": {},
     "output_type": "execute_result"
    }
   ],
   "source": [
    "exp[4]"
   ]
  },
  {
   "cell_type": "code",
   "execution_count": 21,
   "id": "fa3d4c84",
   "metadata": {},
   "outputs": [
    {
     "name": "stdout",
     "output_type": "stream",
     "text": [
      "Month: 0 Expense: 2340\n",
      "Month: 1 Expense: 2500\n",
      "Month: 2 Expense: 2100\n",
      "Month: 3 Expense: 3100\n",
      "Month: 4 Expense: 2980\n",
      "13020\n"
     ]
    }
   ],
   "source": [
    "total = 0\n",
    "for i in range(len(exp)):\n",
    "    print('Month:', i, 'Expense:', exp[i])\n",
    "    total = total + exp[i]\n",
    "print(total)    \n"
   ]
  },
  {
   "cell_type": "code",
   "execution_count": 1,
   "id": "01d1eb0e",
   "metadata": {},
   "outputs": [],
   "source": [
    "result = [\"heads\",\"tails\",\"tails\",\"heads\",\"tails\",\"heads\",\"heads\",\"tails\",\"tails\",\"tails\"]"
   ]
  },
  {
   "cell_type": "code",
   "execution_count": 2,
   "id": "e4e25409",
   "metadata": {},
   "outputs": [
    {
     "name": "stdout",
     "output_type": "stream",
     "text": [
      "total heads is 4\n"
     ]
    }
   ],
   "source": [
    "heads_num = 0\n",
    "for item in result:\n",
    "   if item == \"heads\":\n",
    "     heads_num = heads_num + 1\n",
    "print(\"total heads is\", heads_num)   "
   ]
  },
  {
   "cell_type": "code",
   "execution_count": 3,
   "id": "200cc589",
   "metadata": {},
   "outputs": [
    {
     "name": "stdout",
     "output_type": "stream",
     "text": [
      "1\n",
      "9\n",
      "25\n",
      "49\n",
      "81\n"
     ]
    }
   ],
   "source": [
    "for i in range(1,11):\n",
    "    if i%2==0:\n",
    "        continue\n",
    "    print(i*i)         "
   ]
  },
  {
   "cell_type": "code",
   "execution_count": 9,
   "id": "ac3844c5",
   "metadata": {},
   "outputs": [],
   "source": [
    "expense_list = [2340, 2500, 2100, 3100, 2980]"
   ]
  },
  {
   "cell_type": "code",
   "execution_count": 19,
   "id": "ce437e95",
   "metadata": {},
   "outputs": [
    {
     "ename": "SyntaxError",
     "evalue": "invalid syntax (621048711.py, line 5)",
     "output_type": "error",
     "traceback": [
      "\u001b[1;36m  Input \u001b[1;32mIn [19]\u001b[1;36m\u001b[0m\n\u001b[1;33m    else\u001b[0m\n\u001b[1;37m        ^\u001b[0m\n\u001b[1;31mSyntaxError\u001b[0m\u001b[1;31m:\u001b[0m invalid syntax\n"
     ]
    }
   ],
   "source": [
    "expense = 3100\n",
    "for item in expense_list:\n",
    "    if item == expense:\n",
    "        break\n",
    "    else: \n",
    "        print(\"expense not in list\")"
   ]
  },
  {
   "cell_type": "code",
   "execution_count": null,
   "id": "21722e3e",
   "metadata": {},
   "outputs": [],
   "source": []
  }
 ],
 "metadata": {
  "kernelspec": {
   "display_name": "Python 3 (ipykernel)",
   "language": "python",
   "name": "python3"
  },
  "language_info": {
   "codemirror_mode": {
    "name": "ipython",
    "version": 3
   },
   "file_extension": ".py",
   "mimetype": "text/x-python",
   "name": "python",
   "nbconvert_exporter": "python",
   "pygments_lexer": "ipython3",
   "version": "3.9.12"
  }
 },
 "nbformat": 4,
 "nbformat_minor": 5
}
