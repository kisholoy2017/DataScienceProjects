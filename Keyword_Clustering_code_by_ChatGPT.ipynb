{
  "nbformat": 4,
  "nbformat_minor": 0,
  "metadata": {
    "colab": {
      "provenance": []
    },
    "kernelspec": {
      "name": "python3",
      "display_name": "Python 3"
    },
    "language_info": {
      "name": "python"
    }
  },
  "cells": [
    {
      "cell_type": "code",
      "execution_count": null,
      "metadata": {
        "colab": {
          "base_uri": "https://localhost:8080/"
        },
        "id": "ZpT_1l_K8hdE",
        "outputId": "5d64431c-b6c0-4673-f52b-bb8f8322136a"
      },
      "outputs": [
        {
          "output_type": "stream",
          "name": "stdout",
          "text": [
            "Keyword: best diffusers for home | Cluster: second\n",
            "Keyword: best candles for home | Cluster: second\n",
            "Keyword: Cool Christmas Gifts | Cluster: first\n",
            "Keyword: candles as Presents | Cluster: \n",
            "Keyword: diffusers for him | Cluster: third\n",
            "Keyword: candle gifts for him | Cluster: third\n",
            "Keyword: diffuser Christmas gifts | Cluster: first\n"
          ]
        }
      ],
      "source": [
        "from sklearn.feature_extraction.text import TfidfVectorizer\n",
        "from sklearn.cluster import KMeans\n",
        "\n",
        "# List of keywords\n",
        "keywords = [\"best diffusers for home\", \"best candles for home\", \"Cool Christmas Gifts\", \"candles as Presents\", \"diffusers for him\", \"candle gifts for him\", \"diffuser Christmas gifts\"]\n",
        "\n",
        "# Create a TfidfVectorizer object\n",
        "vectorizer = TfidfVectorizer()\n",
        "\n",
        "# Create a KMeans object\n",
        "kmeans = KMeans(n_clusters=4)\n",
        "\n",
        "# Fit the TfidfVectorizer object to the keywords\n",
        "vectors = vectorizer.fit_transform(keywords)\n",
        "\n",
        "# Fit the KMeans object to the vectors\n",
        "kmeans.fit(vectors)\n",
        "\n",
        "# Predict the clusters for each keyword\n",
        "clusters = kmeans.predict(vectors)\n",
        "\n",
        "# Print the cluster for each keyword\n",
        "for i, keyword in enumerate(keywords):\n",
        "    cluster_name = \"\"\n",
        "    if clusters[i] == 0:\n",
        "        cluster_name = \"first\"\n",
        "    elif clusters[i] == 1:\n",
        "        cluster_name = \"second\"\n",
        "    elif clusters[i] == 2:\n",
        "        cluster_name = \"third\"\n",
        "    print(f\"Keyword: {keyword} | Cluster: {cluster_name}\")    "
      ]
    }
  ]
}